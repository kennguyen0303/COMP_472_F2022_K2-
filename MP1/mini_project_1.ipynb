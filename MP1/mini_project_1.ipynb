{
 "cells": [
  {
   "cell_type": "code",
   "execution_count": null,
   "id": "b4f5c7aa",
   "metadata": {},
   "outputs": [],
   "source": [
    "import gzip\n",
    "import json\n",
    "import numpy as np\n",
    "import matplotlib.pyplot as plt\n",
    "from sklearn.model_selection import train_test_split\n",
    "from sklearn.feature_extraction.text import CountVectorizer\n",
    "import gensim.downloader as api\n",
    "import nltk\n",
    "import pandas as pd\n",
    "import itertools"
   ]
  },
  {
   "cell_type": "markdown",
   "id": "8f270ed0",
   "metadata": {},
   "source": [
    "# 1. Dataset Preparation & Analysis"
   ]
  },
  {
   "cell_type": "markdown",
   "id": "0c886961",
   "metadata": {},
   "source": [
    "## 1.2 Data Loading"
   ]
  },
  {
   "cell_type": "code",
   "execution_count": null,
   "id": "c1d8babb",
   "metadata": {},
   "outputs": [],
   "source": [
    "file = gzip.open('goemotions.json.gz')\n",
    "json_file = json.load(file)"
   ]
  },
  {
   "cell_type": "markdown",
   "id": "867d17eb",
   "metadata": {},
   "source": [
    "## 1.3 Features Extraction and Distribution Plots"
   ]
  },
  {
   "cell_type": "code",
   "execution_count": null,
   "id": "28825c5c",
   "metadata": {},
   "outputs": [],
   "source": [
    "emotions = np.array([])\n",
    "sentiments = np.array([])\n",
    "posts = np.array([1])\n",
    "json_file = np.asarray(json_file)\n",
    "\n",
    "posts = json_file[:,0]\n",
    "emotions = json_file[:,1]\n",
    "sentiments = json_file[:,2]"
   ]
  },
  {
   "cell_type": "code",
   "execution_count": null,
   "id": "86442da8",
   "metadata": {
    "scrolled": false
   },
   "outputs": [],
   "source": [
    "plt.rcParams[\"figure.figsize\"] = [7.50, 3.50]\n",
    "plt.rcParams[\"figure.autolayout\"] = True\n",
    "fig = plt.figure()\n",
    "plt.hist(emotions, bins=range(29), align=\"left\", ec=\"white\")\n",
    "plt.xticks(rotation=45, ha=\"right\")\n",
    "plt.ylabel(\"number of posts\")\n",
    "plt.title(\"Distribution of the Emotion Label\")\n",
    "plt.savefig(\"emotion.pdf\", format=\"pdf\")\n",
    "plt.show()\n",
    "plt.ylabel(\"number of posts\")\n",
    "plt.hist(sentiments, bins=range(5), align=\"left\", ec=\"white\")\n",
    "plt.title(\"Distribution of the Sentiment Label\")\n",
    "plt.savefig(\"sentiment.pdf\", format=\"pdf\")\n",
    "plt.show()"
   ]
  },
  {
   "cell_type": "markdown",
   "id": "2ec99203",
   "metadata": {},
   "source": [
    "# 2. Words as Features"
   ]
  },
  {
   "cell_type": "markdown",
   "id": "d76006a6",
   "metadata": {},
   "source": [
    "## 2.1 Data Processing"
   ]
  },
  {
   "cell_type": "code",
   "execution_count": null,
   "id": "8f26f024",
   "metadata": {},
   "outputs": [],
   "source": [
    "vectorizer = CountVectorizer()"
   ]
  },
  {
   "cell_type": "code",
   "execution_count": null,
   "id": "c1613d27",
   "metadata": {},
   "outputs": [],
   "source": [
    "text_dataset = vectorizer.fit_transform(posts)"
   ]
  },
  {
   "cell_type": "code",
   "execution_count": null,
   "id": "aee95471",
   "metadata": {},
   "outputs": [],
   "source": [
    "\"\"\"\n",
    "each column in the feature vector refers to a word/token.\n",
    "each row in the feature vector is a post.\n",
    "if said post uses a word in the vectorizer's vocabulary exactly once, then it will be shown as a 1\n",
    "in the corresponding index of the vectorizer's vocabulary.\n",
    "therefore, adding up the column for each column will give you the frequency of each word\n",
    "\"\"\"\n",
    "def word_frequencies(dataset, vocabulary):\n",
    "    #add up the elements in the column for each column\n",
    "    frequencies = text_dataset.sum(axis=0).tolist()[0]\n",
    "    \n",
    "    #add up the list of frequencies to get total size of words\n",
    "    total_sum = np.asarray(frequencies).sum()\n",
    "    \n",
    "    #get words from feature vector\n",
    "    words = vocabulary.keys()\n",
    "    \n",
    "    #get corresponding indices for words in feature vector\n",
    "    indices = vocabulary.values()\n",
    "    \n",
    "    #since indices is a list of indices for the words at a 1:1 index, then we just map the frequencies value to the index\n",
    "    #in the indices list and we get a list of sums that map to words list 1:1\n",
    "    frequencies = list(map(lambda index: frequencies[index], indices))\n",
    "    \n",
    "    #then just zip words list and frequencies list as a dictionary\n",
    "    return dict(zip(words, frequencies)), total_sum\n",
    "\n",
    "frequencies, total_sum = word_frequencies(text_dataset, vectorizer.vocabulary_)"
   ]
  },
  {
   "cell_type": "code",
   "execution_count": null,
   "id": "fc7d514f",
   "metadata": {
    "scrolled": true
   },
   "outputs": [],
   "source": [
    "frequencies"
   ]
  },
  {
   "cell_type": "code",
   "execution_count": null,
   "id": "e9488315",
   "metadata": {},
   "outputs": [],
   "source": [
    "total_sum"
   ]
  },
  {
   "cell_type": "markdown",
   "id": "e93d855b",
   "metadata": {},
   "source": [
    "## 2.2 Training and Testing Split"
   ]
  },
  {
   "cell_type": "code",
   "execution_count": null,
   "id": "02461217",
   "metadata": {},
   "outputs": [],
   "source": [
    "# 2.2 Splitting the dataset\n",
    "training_set, test_set = train_test_split(json_file,train_size=0.8)\n",
    "training = {}\n",
    "test = {}\n",
    "\n",
    "# training dict\n",
    "training[\"posts\"] = training_set[:,0]\n",
    "training[\"emotions\"] = training_set[:,1]\n",
    "training[\"sentiments\"] = training_set[:,2]\n",
    "\n",
    "# test dict\n",
    "test[\"posts\"] = test_set[:,0]\n",
    "test[\"emotions\"] = test_set[:,1]\n",
    "test[\"sentiments\"] = test_set[:,2]"
   ]
  },
  {
   "cell_type": "markdown",
   "id": "b2baa6a8",
   "metadata": {},
   "source": [
    "# 3. Embeddings as Features"
   ]
  },
  {
   "cell_type": "markdown",
   "id": "5e6f4204",
   "metadata": {},
   "source": [
    "## 3.1 Embedding Model Loading"
   ]
  },
  {
   "cell_type": "code",
   "execution_count": null,
   "id": "e8491264",
   "metadata": {},
   "outputs": [],
   "source": [
    "w2v_model = api.load(\"word2vec-google-news-300\")"
   ]
  },
  {
   "cell_type": "markdown",
   "id": "b3bb1a7c",
   "metadata": {},
   "source": [
    "## 3.2 Words Extraction"
   ]
  },
  {
   "cell_type": "code",
   "execution_count": null,
   "id": "74f37760",
   "metadata": {},
   "outputs": [],
   "source": [
    "nltk.download()"
   ]
  },
  {
   "cell_type": "code",
   "execution_count": null,
   "id": "10acebc1",
   "metadata": {},
   "outputs": [],
   "source": [
    "word_tokens = [nltk.word_tokenize(corpus, language=\"english\") for corpus in X_train]"
   ]
  },
  {
   "cell_type": "code",
   "execution_count": null,
   "id": "7b70d28f",
   "metadata": {},
   "outputs": [],
   "source": [
    "flattened_tokens = list(itertools.chain.from_iterable(word_tokens))\n",
    "training_set_tokens=pd.Series(flattened_tokens).value_counts()\n",
    "print(training_set_tokens)\n",
    "print(training_set_tokens.sum(), \"= total number of tokens in the training dataset\")"
   ]
  },
  {
   "cell_type": "markdown",
   "id": "be83463e",
   "metadata": {},
   "source": [
    "## 3.3 Embeddings Computing"
   ]
  },
  {
   "cell_type": "code",
   "execution_count": null,
   "id": "2aac4cc8",
   "metadata": {},
   "outputs": [],
   "source": [
    "def get_post_embedding(model, post):\n",
    "    tokens = nltk.word_tokenize(post)\n",
    "    words = [word for word in tokens if word in model]\n",
    "    if len(words)>0:\n",
    "        return np.mean(w2v_model[words], axis=0)\n",
    "    else:\n",
    "        return []"
   ]
  },
  {
   "cell_type": "code",
   "execution_count": null,
   "id": "2184f3b7",
   "metadata": {},
   "outputs": [],
   "source": [
    "training_post_embeddings = [get_post_embedding(w2v_model, post) for post in X_train]"
   ]
  },
  {
   "cell_type": "markdown",
   "id": "ba0c21bb",
   "metadata": {},
   "source": [
    "## 3.4 Display the Hit Rates"
   ]
  },
  {
   "cell_type": "markdown",
   "id": "9c414401",
   "metadata": {},
   "source": [
    "### Training Hit Rates"
   ]
  },
  {
   "cell_type": "code",
   "execution_count": null,
   "id": "878bf63a",
   "metadata": {},
   "outputs": [],
   "source": [
    "valid_training_tokens=pd.Series({word:training_set_tokens[word] for word in training_set_tokens.keys() if word in w2v_model})"
   ]
  },
  {
   "cell_type": "code",
   "execution_count": null,
   "id": "1d131913",
   "metadata": {},
   "outputs": [],
   "source": [
    "print(valid_training_tokens)\n",
    "print(valid_training_tokens.sum(), \"= total number of valid tokens in the training dataset\")"
   ]
  },
  {
   "cell_type": "code",
   "execution_count": null,
   "id": "8be709c4",
   "metadata": {},
   "outputs": [],
   "source": [
    "training_hitrate = (valid_training_tokens.sum()/training_set_tokens.sum())*100"
   ]
  },
  {
   "cell_type": "code",
   "execution_count": null,
   "id": "272b8b70",
   "metadata": {},
   "outputs": [],
   "source": [
    "print(\"{:.2f}% hitrate in the training dataset\".format(training_hitrate))"
   ]
  },
  {
   "cell_type": "markdown",
   "id": "007f95e7",
   "metadata": {},
   "source": [
    "### Testing Hit Rates"
   ]
  },
  {
   "cell_type": "code",
   "execution_count": null,
   "id": "9e1a13ec",
   "metadata": {},
   "outputs": [],
   "source": [
    "testing_set_tokens = list(itertools.chain.from_iterable([nltk.word_tokenize(corpus, language=\"english\") for corpus in X_test]))\n",
    "testing_set_tokens = pd.Series(testing_set_tokens).value_counts()"
   ]
  },
  {
   "cell_type": "code",
   "execution_count": null,
   "id": "ea4c4b58",
   "metadata": {},
   "outputs": [],
   "source": [
    "print(testing_set_tokens)\n",
    "print(testing_set_tokens.sum(), \"= total number of tokens in testing dataset\")"
   ]
  },
  {
   "cell_type": "code",
   "execution_count": null,
   "id": "21857511",
   "metadata": {},
   "outputs": [],
   "source": [
    "valid_testing_tokens=pd.Series({word:testing_set_tokens[word] for word in testing_set_tokens.keys() if word in w2v_model})"
   ]
  },
  {
   "cell_type": "code",
   "execution_count": null,
   "id": "f54f1cb1",
   "metadata": {},
   "outputs": [],
   "source": [
    "print(valid_testing_tokens)\n",
    "print(valid_testing_tokens.sum(), \"= total number of valid tokens in the testing dataset\")"
   ]
  },
  {
   "cell_type": "code",
   "execution_count": null,
   "id": "a47852ba",
   "metadata": {},
   "outputs": [],
   "source": [
    "testing_hitrate = (valid_testing_tokens.sum()/testing_set_tokens.sum())*100"
   ]
  },
  {
   "cell_type": "code",
   "execution_count": null,
   "id": "1bdbb44d",
   "metadata": {},
   "outputs": [],
   "source": [
    "print(\"{:.2f}% hitrate in the testing dataset\".format(testing_hitrate))"
   ]
  }
 ],
 "metadata": {
  "kernelspec": {
   "display_name": "Python 3 (ipykernel)",
   "language": "python",
   "name": "python3"
  },
  "language_info": {
   "codemirror_mode": {
    "name": "ipython",
    "version": 3
   },
   "file_extension": ".py",
   "mimetype": "text/x-python",
   "name": "python",
   "nbconvert_exporter": "python",
   "pygments_lexer": "ipython3",
   "version": "3.9.7"
  }
 },
 "nbformat": 4,
 "nbformat_minor": 5
}
