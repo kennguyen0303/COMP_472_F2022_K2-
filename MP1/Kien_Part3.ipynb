{
 "cells": [
  {
   "cell_type": "markdown",
   "metadata": {
    "id": "hxC93Avshd4S"
   },
   "source": [
    "# **Prerequisite steps**"
   ]
  },
  {
   "cell_type": "code",
   "execution_count": null,
   "metadata": {
    "colab": {
     "base_uri": "https://localhost:8080/"
    },
    "id": "R7X7Gv01Wv0d",
    "outputId": "27d606d1-4522-4475-ffe8-7155f9a5d10d"
   },
   "outputs": [],
   "source": [
    "from google.colab import drive\n",
    "drive.mount('/content/drive')"
   ]
  },
  {
   "cell_type": "code",
   "execution_count": null,
   "metadata": {
    "id": "75lrELMJWzhP"
   },
   "outputs": [],
   "source": [
    "import json\n",
    "\n",
    "with open('/content/drive/MyDrive/goemotions.json', 'r') as f:\n",
    "  json_file = json.load(f)"
   ]
  },
  {
   "cell_type": "code",
   "execution_count": null,
   "metadata": {
    "colab": {
     "base_uri": "https://localhost:8080/"
    },
    "id": "YARwWmdrWYrh",
    "outputId": "353ddfac-a97e-4dd1-b389-ee1bc2cfa92c"
   },
   "outputs": [],
   "source": [
    "import gensim.downloader as api\n",
    "w2v_model = api.load(\"word2vec-google-news-300\")"
   ]
  },
  {
   "cell_type": "code",
   "execution_count": null,
   "metadata": {
    "id": "YdOOTa12W5Hk"
   },
   "outputs": [],
   "source": [
    "import nltk\n",
    "#nltk.download()"
   ]
  },
  {
   "cell_type": "code",
   "execution_count": null,
   "metadata": {
    "id": "WF3v-aAAbySu"
   },
   "outputs": [],
   "source": [
    "from sklearn.model_selection import train_test_split\n",
    "import numpy as np\n",
    "json_file = np.asarray(json_file)\n",
    "# 2.2 Splitting the dataset\n",
    "training_set, test_set = train_test_split(json_file,train_size=0.8)\n",
    "\n",
    "# training set\n",
    "X_train = training_set[:, 0]\n",
    "y_train = training_set[:, 1:]\n",
    "\n",
    "# test set\n",
    "X_test = test_set[:, 0]\n",
    "y_test = test_set[:, 1:]"
   ]
  },
  {
   "cell_type": "code",
   "execution_count": null,
   "metadata": {
    "colab": {
     "base_uri": "https://localhost:8080/"
    },
    "id": "XuaJHpUncE4n",
    "outputId": "7f7b3067-b016-4d32-c008-72e3b21c997f"
   },
   "outputs": [],
   "source": [
    "nltk.download('punkt')\n",
    "word_tokens = [nltk.word_tokenize(corpus, language=\"english\") for corpus in X_train]"
   ]
  },
  {
   "cell_type": "markdown",
   "metadata": {
    "id": "bROgMAD3czvY"
   },
   "source": [
    "**3.3**\n"
   ]
  },
  {
   "cell_type": "code",
   "execution_count": null,
   "metadata": {
    "id": "Q89E-AcVc1W5"
   },
   "outputs": [],
   "source": [
    "def get_post_embedding(model, post):\n",
    "    tokens = nltk.word_tokenize(post)\n",
    "    words = [word for word in tokens if word in model]\n",
    "    if len(words)>0:\n",
    "        return np.mean(model[words], axis=0)\n",
    "    else:\n",
    "        return model['unk']"
   ]
  },
  {
   "cell_type": "markdown",
   "metadata": {
    "id": "4eoSwBSogv2z"
   },
   "source": [
    "Define helper for reporting stats"
   ]
  },
  {
   "cell_type": "code",
   "execution_count": null,
   "metadata": {
    "id": "jPHbweax2kwM"
   },
   "outputs": [],
   "source": [
    "from sklearn.metrics import confusion_matrix\n",
    "from sklearn.metrics import ConfusionMatrixDisplay\n",
    "from sklearn.metrics import classification_report\n",
    "import matplotlib.pyplot as plt\n",
    "\n",
    "def generate_stats(Y_test, Y_pred, output_filename):\n",
    "  '''\n",
    "  generate a report for the model\n",
    "  '''\n",
    "  # report\n",
    "  print(classification_report(Y_test,Y_pred))\n",
    "  plt.rcParams['figure.figsize'] = [20, 20]\n",
    "  ConfusionMatrixDisplay.from_predictions(Y_test,Y_pred)\n",
    "  plt.savefig(output_filename + \".pdf\", format=\"pdf\")\n",
    "  plt.show()"
   ]
  },
  {
   "cell_type": "markdown",
   "metadata": {
    "id": "G_5LkVgd4Zvf"
   },
   "source": [
    "# **3.5**"
   ]
  },
  {
   "cell_type": "markdown",
   "metadata": {
    "id": "P4gVSQYrCtGL"
   },
   "source": [
    "## Base MLP"
   ]
  },
  {
   "cell_type": "code",
   "execution_count": null,
   "metadata": {
    "colab": {
     "base_uri": "https://localhost:8080/"
    },
    "id": "htsh-BARhGKo",
    "outputId": "df88c2aa-6953-4492-c6f2-d1f2d2627b3c"
   },
   "outputs": [],
   "source": [
    "# Training and predict\n",
    "from sklearn.neural_network import MLPClassifier\n",
    "vectorized_training_posts = [get_post_embedding(w2v_model, post) for post in X_train]\n",
    "vectorized_test_posts = [get_post_embedding(w2v_model, post) for post in X_test]\n",
    "emotions_train = y_train[:,0]\n",
    "print(\"n of outputs emotions\",len(emotions_train))\n",
    "print(\"input length\", len(vectorized_training_posts))"
   ]
  },
  {
   "cell_type": "markdown",
   "metadata": {
    "id": "Z3yeWa6Vg-Ry"
   },
   "source": [
    "### **Emotions**"
   ]
  },
  {
   "cell_type": "code",
   "execution_count": null,
   "metadata": {
    "colab": {
     "base_uri": "https://localhost:8080/"
    },
    "id": "cfR9c106tbJc",
    "outputId": "ea5be527-a4f7-47f7-a98a-71d51bea7d01"
   },
   "outputs": [],
   "source": [
    "mlp_model_base_e = MLPClassifier(max_iter=100)\n",
    "mlp_model_base_e.fit(vectorized_training_posts, emotions_train)"
   ]
  },
  {
   "cell_type": "code",
   "execution_count": null,
   "metadata": {
    "id": "rbY4udX98LRo"
   },
   "outputs": [],
   "source": [
    "Y_pred = mlp_model_base_e.predict(vectorized_test_posts)"
   ]
  },
  {
   "cell_type": "code",
   "execution_count": null,
   "metadata": {
    "id": "zmzQYqgm252h"
   },
   "outputs": [],
   "source": [
    "generate_stats(y_test[:,0], Y_pred, \"Base mlp emotion embedding\")"
   ]
  },
  {
   "cell_type": "markdown",
   "metadata": {
    "id": "AR52TRI4hLRS"
   },
   "source": [
    "### **Sentiments**"
   ]
  },
  {
   "cell_type": "code",
   "execution_count": null,
   "metadata": {
    "id": "2Uo4Rwk380as"
   },
   "outputs": [],
   "source": [
    "# Training and predict\n",
    "\n",
    "mlp_model_base_sen = MLPClassifier(max_iter=100)\n",
    "mlp_model_base_sen.fit(vectorized_training_posts, y_train[:,1])"
   ]
  },
  {
   "cell_type": "code",
   "execution_count": null,
   "metadata": {
    "id": "V70OpwX29HlQ"
   },
   "outputs": [],
   "source": [
    "Y_pred = mlp_model_base_sen.predict(vectorized_test_posts)\n",
    "generate_stats(y_test[:,1], Y_pred, \"Base mlp sentiments embedding\")"
   ]
  },
  {
   "cell_type": "markdown",
   "metadata": {
    "id": "tJMy3KsTVOx-"
   },
   "source": [
    "# **3.8 Running Base MLP on 2 others pre-trained model**"
   ]
  },
  {
   "cell_type": "code",
   "execution_count": null,
   "metadata": {
    "id": "lVjwzoocCDmU"
   },
   "outputs": [],
   "source": [
    "model_glove_twitter = api.load(\"glove-twitter-25\")"
   ]
  },
  {
   "cell_type": "code",
   "execution_count": null,
   "metadata": {
    "colab": {
     "base_uri": "https://localhost:8080/"
    },
    "id": "kA9B-d32LED4",
    "outputId": "3ddbf08d-7822-452e-b4eb-02ac1767482c"
   },
   "outputs": [],
   "source": [
    "model_glove_wiki_gigaword = api.load(\"glove-wiki-gigaword-300\")"
   ]
  },
  {
   "cell_type": "markdown",
   "metadata": {
    "id": "zGtJ9-8ZM3SG"
   },
   "source": [
    "## **Training base MLP on twitter dataset**"
   ]
  },
  {
   "cell_type": "code",
   "execution_count": null,
   "metadata": {
    "id": "h2MiAqs0NQcW"
   },
   "outputs": [],
   "source": [
    "# test\n",
    "print(model_glove_twitter[\"unk\"])"
   ]
  },
  {
   "cell_type": "code",
   "execution_count": null,
   "metadata": {
    "id": "Y5AQesfeMtCK"
   },
   "outputs": [],
   "source": [
    "vectorized_training_posts = [get_post_embedding(model_glove_twitter, post) for post in X_train]\n",
    "vectorized_test_posts = [get_post_embedding(model_glove_twitter, post) for post in X_test]"
   ]
  },
  {
   "cell_type": "markdown",
   "metadata": {
    "id": "1wkUs_7AP1fD"
   },
   "source": [
    "### Sentiments"
   ]
  },
  {
   "cell_type": "code",
   "execution_count": null,
   "metadata": {
    "id": "0EFSuizLPhCs"
   },
   "outputs": [],
   "source": [
    "# train\n",
    "mlp_model_base_sen_twitter = MLPClassifier(max_iter=100)\n",
    "mlp_model_base_sen_twitter.fit(vectorized_training_posts, y_train[:,1])"
   ]
  },
  {
   "cell_type": "code",
   "execution_count": null,
   "metadata": {
    "id": "-6B58OWaOhF9"
   },
   "outputs": [],
   "source": [
    "Y_pred = mlp_model_base_sen_twitter.predict(vectorized_test_posts)\n",
    "generate_stats(y_test[:,1], Y_pred, \"Base mlp sentiments embedding - Twitter-25 dimens\")"
   ]
  },
  {
   "cell_type": "markdown",
   "metadata": {
    "id": "b2nZj03BP3HT"
   },
   "source": [
    "### Emotions"
   ]
  },
  {
   "cell_type": "code",
   "execution_count": null,
   "metadata": {
    "colab": {
     "base_uri": "https://localhost:8080/"
    },
    "id": "deodZ5S2PyCr",
    "outputId": "0be8617a-9f16-4219-8eae-ed8f0d420e78"
   },
   "outputs": [],
   "source": [
    "# train\n",
    "mlp_model_base_emo_twitter = MLPClassifier(max_iter=100)\n",
    "mlp_model_base_emo_twitter.fit(vectorized_training_posts, y_train[:,0])"
   ]
  },
  {
   "cell_type": "code",
   "execution_count": null,
   "metadata": {
    "colab": {
     "base_uri": "https://localhost:8080/",
     "height": 1000
    },
    "id": "hg46YR7kQASd",
    "outputId": "fc08daeb-03c2-4e45-c129-74c5846cc37b"
   },
   "outputs": [],
   "source": [
    "Y_pred = mlp_model_base_emo_twitter.predict(vectorized_test_posts)\n",
    "generate_stats(y_test[:,0], Y_pred, \"Top mlp emotions embedding - Twitter-25 dimens\")"
   ]
  },
  {
   "cell_type": "markdown",
   "metadata": {
    "id": "0By6D74LOCUV"
   },
   "source": [
    "## **Training base MLP on glove wiki dataset**"
   ]
  },
  {
   "cell_type": "code",
   "execution_count": null,
   "metadata": {
    "id": "sQ1bs8EjNXT1"
   },
   "outputs": [],
   "source": [
    "print(model_glove_wiki_gigaword[\"unk\"])"
   ]
  },
  {
   "cell_type": "code",
   "execution_count": null,
   "metadata": {
    "id": "7dOArRprRBAj"
   },
   "outputs": [],
   "source": [
    "vectorized_training_posts = [get_post_embedding(model_glove_wiki_gigaword, post) for post in X_train]\n",
    "vectorized_test_posts = [get_post_embedding(model_glove_wiki_gigaword, post) for post in X_test]"
   ]
  },
  {
   "cell_type": "markdown",
   "metadata": {
    "id": "LqvazAZfRO-A"
   },
   "source": [
    "### Sentiments"
   ]
  },
  {
   "cell_type": "code",
   "execution_count": null,
   "metadata": {
    "colab": {
     "base_uri": "https://localhost:8080/"
    },
    "id": "ObFPBs2lRFMI",
    "outputId": "cc676ac9-bd8a-4bee-8317-d1133cdb8980"
   },
   "outputs": [],
   "source": [
    "# train\n",
    "mlp_model_base_sen_wiki = MLPClassifier(max_iter=100)\n",
    "mlp_model_base_sen_wiki.fit(vectorized_training_posts, y_train[:,1])"
   ]
  },
  {
   "cell_type": "code",
   "execution_count": null,
   "metadata": {
    "colab": {
     "base_uri": "https://localhost:8080/",
     "height": 1000
    },
    "id": "eB0NnaOYRG4h",
    "outputId": "5646df74-0b92-4f62-f282-0c5669febae3"
   },
   "outputs": [],
   "source": [
    "Y_pred = mlp_model_base_sen_wiki.predict(vectorized_test_posts)\n",
    "generate_stats(y_test[:,1], Y_pred, \"Base mlp sentiments embedding - Wiki-300 dimens\")"
   ]
  },
  {
   "cell_type": "markdown",
   "metadata": {
    "id": "F4jWESxkRSWA"
   },
   "source": [
    "### Emotions"
   ]
  },
  {
   "cell_type": "code",
   "execution_count": null,
   "metadata": {
    "colab": {
     "base_uri": "https://localhost:8080/"
    },
    "id": "5jvCCeGIRIhR",
    "outputId": "a699aa90-37f3-45be-e164-af4b80a3eccc"
   },
   "outputs": [],
   "source": [
    "# train\n",
    "mlp_model_base_emo_wiki = MLPClassifier(max_iter=100)\n",
    "mlp_model_base_emo_wiki.fit(vectorized_training_posts, y_train[:,0])"
   ]
  },
  {
   "cell_type": "code",
   "execution_count": null,
   "metadata": {
    "id": "2CbS-THYRKAo"
   },
   "outputs": [],
   "source": [
    "Y_pred = mlp_model_base_emo_wiki.predict(vectorized_test_posts)\n",
    "generate_stats(y_test[:,0], Y_pred, \"Base mlp emotions embedding - Wiki-300 dimens\")"
   ]
  }
 ],
 "metadata": {
  "accelerator": "GPU",
  "colab": {
   "collapsed_sections": [
    "hxC93Avshd4S",
    "G_5LkVgd4Zvf",
    "P4gVSQYrCtGL",
    "Z3yeWa6Vg-Ry",
    "AR52TRI4hLRS",
    "tJMy3KsTVOx-",
    "zGtJ9-8ZM3SG",
    "1wkUs_7AP1fD",
    "b2nZj03BP3HT",
    "0By6D74LOCUV",
    "LqvazAZfRO-A",
    "F4jWESxkRSWA"
   ],
   "provenance": []
  },
  "kernelspec": {
   "display_name": "Python 3 (ipykernel)",
   "language": "python",
   "name": "python3"
  },
  "language_info": {
   "codemirror_mode": {
    "name": "ipython",
    "version": 3
   },
   "file_extension": ".py",
   "mimetype": "text/x-python",
   "name": "python",
   "nbconvert_exporter": "python",
   "pygments_lexer": "ipython3",
   "version": "3.8.10"
  }
 },
 "nbformat": 4,
 "nbformat_minor": 1
}
