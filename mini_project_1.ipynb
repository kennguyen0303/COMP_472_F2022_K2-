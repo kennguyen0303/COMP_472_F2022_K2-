{
 "cells": [
  {
   "cell_type": "code",
   "execution_count": null,
   "id": "d5432bd2",
   "metadata": {},
   "outputs": [],
   "source": [
    "import gzip\n",
    "import json\n",
    "import numpy as np\n",
    "import matplotlib.pyplot as plt\n",
    "from sklearn.model_selection import train_test_split\n",
    "from sklearn.feature_extraction.text import CountVectorizer\n",
    "from sklearn.neural_network import MLPClassifier\n",
    "from sklearn.model_selection import GridSearchCV\n",
    "from sklearn.metrics import classification_report\n",
    "from sklearn.metrics import confusion_matrix"
   ]
  },
  {
   "cell_type": "code",
   "execution_count": null,
   "id": "420151f4",
   "metadata": {},
   "outputs": [],
   "source": [
    "file = gzip.open('goemotions.json.gz')\n",
    "json_file = json.load(file)"
   ]
  },
  {
   "cell_type": "code",
   "execution_count": null,
   "id": "139b71de",
   "metadata": {},
   "outputs": [],
   "source": [
    "emotions = np.array([])\n",
    "sentiments = np.array([])\n",
    "posts = np.array([1])\n",
    "json_file = np.asarray(json_file)\n",
    "\n",
    "posts = json_file[:,0]\n",
    "emotions = json_file[:,1]\n",
    "sentiments = json_file[:,2]"
   ]
  },
  {
   "cell_type": "code",
   "execution_count": null,
   "id": "9f0d52d7",
   "metadata": {
    "scrolled": false
   },
   "outputs": [],
   "source": [
    "plt.rcParams[\"figure.figsize\"] = [7.50, 3.50]\n",
    "plt.rcParams[\"figure.autolayout\"] = True\n",
    "fig = plt.figure()\n",
    "plt.hist(emotions, bins=range(29), align=\"left\", ec=\"white\")\n",
    "plt.xticks(rotation=45, ha=\"right\")\n",
    "plt.ylabel(\"number of posts\")\n",
    "plt.title(\"Distribution of the Emotion Label\")\n",
    "plt.savefig(\"emotion.pdf\", format=\"pdf\")\n",
    "plt.show()\n",
    "plt.ylabel(\"number of posts\")\n",
    "plt.hist(sentiments, bins=range(5), align=\"left\", ec=\"white\")\n",
    "plt.title(\"Distribution of the Sentiment Label\")\n",
    "plt.savefig(\"sentiment.pdf\", format=\"pdf\")\n",
    "plt.show()"
   ]
  },
  {
   "cell_type": "code",
   "execution_count": null,
   "id": "d95a3398",
   "metadata": {},
   "outputs": [],
   "source": [
    "# 2.1. Vectorizer\n",
    "vectorizer = CountVectorizer()"
   ]
  },
  {
   "cell_type": "code",
   "execution_count": null,
   "id": "f44a7226",
   "metadata": {},
   "outputs": [],
   "source": [
    "text_dataset = vectorizer.fit_transform(posts)"
   ]
  },
  {
   "cell_type": "code",
   "execution_count": null,
   "id": "f0f7129f",
   "metadata": {},
   "outputs": [],
   "source": [
    "\"\"\"\n",
    "each column in the feature vector refers to a word/token.\n",
    "each row in the feature vector is a post.\n",
    "if said post uses a word in the vectorizer's vocabulary exactly once, then it will be shown as a 1\n",
    "in the corresponding index of the vectorizer's vocabulary.\n",
    "therefore, adding up the column for each column will give you the frequency of each word\n",
    "\"\"\"\n",
    "def word_frequencies(dataset, vocabulary):\n",
    "    #add up the elements in the column for each column\n",
    "    frequency_array = dataset.sum(axis=0).tolist()[0]\n",
    "    \n",
    "    #add up the list of frequencies to get total size of words\n",
    "    total_sum = np.asarray(frequency_array).sum()\n",
    "    \n",
    "    #get words from feature vector\n",
    "    words = vocabulary.keys()\n",
    "    \n",
    "    #get corresponding indices for words in feature vector\n",
    "    indices = vocabulary.values()\n",
    "    \n",
    "    #since indices is a list of indices for the words at a 1:1 index, then we just map the frequencies value to the index\n",
    "    #in the indices list and we get a list of sums that map to words list 1:1\n",
    "    frequencies = list(map(lambda index: frequency_array[index], indices))\n",
    "    \n",
    "    #then just zip words list and frequencies list as a dictionary\n",
    "    return dict(zip(words, frequencies)), total_sum\n",
    "\n",
    "frequencies, total_sum = word_frequencies(text_dataset, vectorizer.vocabulary_)"
   ]
  },
  {
   "cell_type": "code",
   "execution_count": null,
   "id": "69f78dfe",
   "metadata": {},
   "outputs": [],
   "source": [
    "# 2.2 Splitting the dataset\n",
    "training_set, test_set = train_test_split(json_file,train_size=0.8)\n",
    "\n",
    "# training set\n",
    "X_train = training_set[:, 0]\n",
    "y_train = training_set[:, 1:]\n",
    "\n",
    "# test set\n",
    "X_test = test_set[:, 0]\n",
    "y_test = test_set[:, 1:]"
   ]
  },
  {
   "cell_type": "markdown",
   "id": "12a330a3",
   "metadata": {},
   "source": [
    "# 2.3.1 BASE MNB"
   ]
  },
  {
   "cell_type": "code",
   "execution_count": null,
   "id": "2d8c0bae",
   "metadata": {},
   "outputs": [],
   "source": [
    "from sklearn.naive_bayes import MultinomialNB"
   ]
  },
  {
   "cell_type": "code",
   "execution_count": null,
   "id": "045be63f",
   "metadata": {},
   "outputs": [],
   "source": [
    "X_train_mnb = vectorizer.fit_transform(X_train)"
   ]
  },
  {
   "cell_type": "code",
   "execution_count": null,
   "id": "d97c89c6",
   "metadata": {},
   "outputs": [],
   "source": [
    "mnb_cl = MultinomialNB()"
   ]
  },
  {
   "cell_type": "code",
   "execution_count": null,
   "id": "2dd3502c",
   "metadata": {},
   "outputs": [],
   "source": [
    "emotions = y_train[:,0]\n",
    "sentiments = y_train[:,1]\n",
    "mnb_emotions = mnb_cl.fit(X_train_mnb, emotions)\n",
    "mnb_sentiments = mnb_cl.fit(X_train_mnb, sentiments)"
   ]
  },
  {
   "cell_type": "code",
   "execution_count": null,
   "id": "47c7639f",
   "metadata": {},
   "outputs": [],
   "source": [
    "score_base_mnb_emotions = mnb_emotions.score(X_train_mnb, emotions)\n",
    "score_base_mnb_sentiments = mnb_sentiments.score(X_train_mnb, sentiments)\n",
    "print(\"emotions score: \", score_base_mnb_emotions)\n",
    "print(\"sentiments score: \", score_base_mnb_sentiments)"
   ]
  },
  {
   "cell_type": "markdown",
   "id": "2561412b",
   "metadata": {},
   "source": [
    "### Testing Base MNB"
   ]
  },
  {
   "cell_type": "code",
   "execution_count": null,
   "id": "33735c8e",
   "metadata": {},
   "outputs": [],
   "source": [
    "X_test_base_mnb = vectorizer.transform(X_test)"
   ]
  },
  {
   "cell_type": "code",
   "execution_count": null,
   "id": "3a84d7f0",
   "metadata": {},
   "outputs": [],
   "source": [
    "predicted_emotions = mnb_emotions.predict(X_test_base_mnb)\n",
    "predicted_sentiments = mnb_sentiments.predict(X_test_base_mnb)\n",
    "test_emotions = y_test[:,0]\n",
    "test_sentiments = y_test[:,1]"
   ]
  },
  {
   "cell_type": "markdown",
   "id": "5ab7730d",
   "metadata": {},
   "source": [
    "## 2.4.1 MNB Base Report"
   ]
  },
  {
   "cell_type": "markdown",
   "id": "61e8f80e",
   "metadata": {},
   "source": [
    "### Report for emotions"
   ]
  },
  {
   "cell_type": "code",
   "execution_count": null,
   "id": "9e550b79",
   "metadata": {
    "scrolled": true
   },
   "outputs": [],
   "source": [
    "print(classification_report(test_emotions, predicted_emotions))"
   ]
  },
  {
   "cell_type": "code",
   "execution_count": null,
   "id": "63d9a1d5",
   "metadata": {
    "scrolled": true
   },
   "outputs": [],
   "source": [
    "emotions_cf_matrix = confusion_matrix(test_emotions, predicted_emotions)"
   ]
  },
  {
   "cell_type": "code",
   "execution_count": null,
   "id": "4a5cca2b",
   "metadata": {},
   "outputs": [],
   "source": [
    "import seaborn as sns\n",
    "sns.heatmap(emotions_cf_matrix)"
   ]
  },
  {
   "cell_type": "markdown",
   "id": "30339539",
   "metadata": {},
   "source": [
    "### Report for sentiments"
   ]
  },
  {
   "cell_type": "code",
   "execution_count": null,
   "id": "c4c3d9d7",
   "metadata": {},
   "outputs": [],
   "source": [
    "print(classification_report(test_sentiments, predicted_sentiments))"
   ]
  },
  {
   "cell_type": "code",
   "execution_count": null,
   "id": "790f3613",
   "metadata": {},
   "outputs": [],
   "source": [
    "sentiments_cf_matrix = confusion_matrix(test_sentiments, predicted_sentiments)"
   ]
  },
  {
   "cell_type": "code",
   "execution_count": null,
   "id": "873b73fa",
   "metadata": {},
   "outputs": [],
   "source": [
    "sns.heatmap(sentiments_cf_matrix)"
   ]
  },
  {
   "cell_type": "markdown",
   "id": "c08a44e6",
   "metadata": {},
   "source": [
    "# 2.3.5 TOP DECISION TREE"
   ]
  },
  {
   "cell_type": "code",
   "execution_count": null,
   "id": "446340a5",
   "metadata": {},
   "outputs": [],
   "source": [
    "from sklearn import tree\n",
    "from sklearn import preprocessing\n",
    "from sklearn.tree import export_graphviz"
   ]
  },
  {
   "cell_type": "code",
   "execution_count": null,
   "id": "e87d6e78",
   "metadata": {},
   "outputs": [],
   "source": [
    "X_train_dt = vectorizer.fit_transform(X_train)"
   ]
  },
  {
   "cell_type": "code",
   "execution_count": null,
   "id": "f5e7bc53",
   "metadata": {},
   "outputs": [],
   "source": [
    "hyper_parameters = {'criterion':['gini', 'entropy'],'max_depth':[4,5], 'min_samples_split':[4,5,6]}"
   ]
  },
  {
   "cell_type": "code",
   "execution_count": null,
   "id": "c52db889",
   "metadata": {},
   "outputs": [],
   "source": [
    "top_dt = GridSearchCV(tree.DecisionTreeClassifier(), hyper_parameters, cv=3)"
   ]
  },
  {
   "cell_type": "code",
   "execution_count": null,
   "id": "9dfc5ed0",
   "metadata": {},
   "outputs": [],
   "source": [
    "emotions = y_train[:,0]\n",
    "sentiments = y_train[:,1]\n",
    "dt_emotions = top_dt.fit(X_train_dt, emotions)\n",
    "dt_sentiments = top_dt.fit(X_train_dt, sentiments)"
   ]
  },
  {
   "cell_type": "code",
   "execution_count": null,
   "id": "c7ff361d",
   "metadata": {},
   "outputs": [],
   "source": [
    "score_dt_emotions = top_dt.score(X_train_dt, emotions)\n",
    "score_dt_sentiments = top_dt.score(X_train_dt, sentiments)\n",
    "print(\"emotions score: \", score_dt_emotions)\n",
    "print(\"sentiments score: \", score_dt_sentiments)"
   ]
  },
  {
   "cell_type": "code",
   "execution_count": null,
   "id": "9c6ac521",
   "metadata": {},
   "outputs": [],
   "source": [
    "print(dt_emotions.best_estimator_)\n",
    "print(dt_sentiments.best_estimator_)"
   ]
  },
  {
   "cell_type": "markdown",
   "id": "ec27ceff",
   "metadata": {},
   "source": [
    "## Testing Top Decision Tree"
   ]
  },
  {
   "cell_type": "code",
   "execution_count": null,
   "id": "b00af580",
   "metadata": {},
   "outputs": [],
   "source": [
    "X_test_dt = vectorizer.transform(X_test)"
   ]
  },
  {
   "cell_type": "code",
   "execution_count": null,
   "id": "2a17d93d",
   "metadata": {},
   "outputs": [],
   "source": [
    "predicted_emotions = dt_emotions.predict(X_test_dt)\n",
    "predicted_sentiments = dt_sentiments.predict(X_test_dt)"
   ]
  },
  {
   "cell_type": "code",
   "execution_count": null,
   "id": "e9db887a",
   "metadata": {},
   "outputs": [],
   "source": [
    "test_emotions = y_test[:,0]\n",
    "test_sentiments = y_test[:,1]"
   ]
  },
  {
   "cell_type": "markdown",
   "id": "9896265b",
   "metadata": {},
   "source": [
    "## 2.4.5 Top Decision Tree Report"
   ]
  },
  {
   "cell_type": "markdown",
   "id": "c184ebcd",
   "metadata": {},
   "source": [
    "### Report for emotions"
   ]
  },
  {
   "cell_type": "code",
   "execution_count": null,
   "id": "fb385308",
   "metadata": {
    "scrolled": true
   },
   "outputs": [],
   "source": [
    "print(classification_report(test_emotions, predicted_emotions))"
   ]
  },
  {
   "cell_type": "code",
   "execution_count": null,
   "id": "87dc009c",
   "metadata": {},
   "outputs": [],
   "source": [
    "emotions_cf_matrix = confusion_matrix(test_emotions, predicted_emotions)"
   ]
  },
  {
   "cell_type": "code",
   "execution_count": null,
   "id": "2abddf09",
   "metadata": {},
   "outputs": [],
   "source": [
    "sns.heatmap(emotions_cf_matrix)"
   ]
  },
  {
   "cell_type": "markdown",
   "id": "99ee3836",
   "metadata": {},
   "source": [
    "### Report for sentiments"
   ]
  },
  {
   "cell_type": "code",
   "execution_count": null,
   "id": "3790cc6e",
   "metadata": {
    "scrolled": true
   },
   "outputs": [],
   "source": [
    "print(classification_report(test_sentiments, predicted_sentiments))"
   ]
  },
  {
   "cell_type": "code",
   "execution_count": null,
   "id": "256eb332",
   "metadata": {},
   "outputs": [],
   "source": [
    "sentiments_cf_matrix = confusion_matrix(test_sentiments, predicted_sentiments)"
   ]
  },
  {
   "cell_type": "code",
   "execution_count": null,
   "id": "46e192b4",
   "metadata": {},
   "outputs": [],
   "source": [
    "sns.heatmap(sentiments_cf_matrix)"
   ]
  },
  {
   "cell_type": "markdown",
   "id": "a33595ec",
   "metadata": {},
   "source": [
    "# 2.5 Removing Stop Words"
   ]
  },
  {
   "cell_type": "code",
   "execution_count": null,
   "id": "07de809e",
   "metadata": {},
   "outputs": [],
   "source": [
    "from sklearn.naive_bayes import MultinomialNB"
   ]
  },
  {
   "cell_type": "code",
   "execution_count": null,
   "id": "db860e22",
   "metadata": {},
   "outputs": [],
   "source": [
    "vectorizer_stp_wrds = CountVectorizer(stop_words=\"english\")"
   ]
  },
  {
   "cell_type": "code",
   "execution_count": null,
   "id": "8ca1bda7",
   "metadata": {},
   "outputs": [],
   "source": [
    "mnb_cl = MultinomialNB()"
   ]
  },
  {
   "cell_type": "code",
   "execution_count": null,
   "id": "f90762b9",
   "metadata": {},
   "outputs": [],
   "source": [
    "# 2.2 Splitting the dataset\n",
    "training_set, test_set = train_test_split(json_file,train_size=0.8)\n",
    "\n",
    "# training set\n",
    "X_train = training_set[:, 0]\n",
    "y_train = training_set[:, 1:]\n",
    "\n",
    "# test set\n",
    "X_test = test_set[:, 0]\n",
    "y_test = test_set[:, 1:]"
   ]
  },
  {
   "cell_type": "code",
   "execution_count": null,
   "id": "8e1d87ec",
   "metadata": {},
   "outputs": [],
   "source": [
    "X_train_mnb_stp_wrds = vectorizer_stp_wrds.fit_transform(X_train)"
   ]
  },
  {
   "cell_type": "code",
   "execution_count": null,
   "id": "016b5dd7",
   "metadata": {},
   "outputs": [],
   "source": [
    "emotions = y_train[:,0]\n",
    "sentiments = y_train[:,1]\n",
    "mnb_emotions_stp_wrds = mnb_cl.fit(X_train_mnb_stp_wrds, emotions)\n",
    "mnb_sentiments_stp_wrds = mnb_cl.fit(X_train_mnb_stp_wrds, sentiments)"
   ]
  },
  {
   "cell_type": "code",
   "execution_count": null,
   "id": "ca274284",
   "metadata": {},
   "outputs": [],
   "source": [
    "score_mnb_stp_wrds_emotions = mnb_cl.score(X_train_mnb_stp_wrds, emotions)\n",
    "score_mnb_stp_wrds_sentiments = mnb_cl.score(X_train_mnb_stp_wrds, sentiments)\n",
    "print(\"emotions score: \", score_mnb_stp_wrds_emotions)\n",
    "print(\"sentiments score: \", score_mnb_stp_wrds_sentiments)"
   ]
  },
  {
   "cell_type": "markdown",
   "id": "c1ca293f",
   "metadata": {},
   "source": [
    "## Testing MNB w/ Stop Words"
   ]
  },
  {
   "cell_type": "code",
   "execution_count": null,
   "id": "6f211fdb",
   "metadata": {},
   "outputs": [],
   "source": [
    "X_test_mnb_stp_wrds = vectorizer_stp_wrds.transform(X_test)"
   ]
  },
  {
   "cell_type": "code",
   "execution_count": null,
   "id": "6eebd7e0",
   "metadata": {},
   "outputs": [],
   "source": [
    "predicted_emotions_stp_wrds = mnb_emotions_stp_wrds.predict(X_test_mnb_stp_wrds)\n",
    "predicted_sentiments_stp_wrds = mnb_sentiments_stp_wrds.predict(X_test_mnb_stp_wrds)\n",
    "test_emotions_stp_wrds = y_test[:,0]\n",
    "test_sentiments_stp_wrds = y_test[:,1]"
   ]
  },
  {
   "cell_type": "markdown",
   "id": "1e0911d4",
   "metadata": {},
   "source": [
    "## Report for emotions"
   ]
  },
  {
   "cell_type": "code",
   "execution_count": null,
   "id": "3dd89745",
   "metadata": {},
   "outputs": [],
   "source": [
    "print(classification_report(test_emotions_stp_wrds, predicted_emotions_stp_wrds))"
   ]
  },
  {
   "cell_type": "code",
   "execution_count": null,
   "id": "a8c498c0",
   "metadata": {},
   "outputs": [],
   "source": [
    "emotions_cf_matrix = confusion_matrix(test_emotions_stp_wrds, predicted_emotions_stp_wrds)"
   ]
  },
  {
   "cell_type": "code",
   "execution_count": null,
   "id": "8bac9485",
   "metadata": {},
   "outputs": [],
   "source": [
    "import seaborn as sns\n",
    "sns.heatmap(emotions_cf_matrix)"
   ]
  },
  {
   "cell_type": "markdown",
   "id": "4f89f7ad",
   "metadata": {},
   "source": [
    "## Report for sentiments"
   ]
  },
  {
   "cell_type": "code",
   "execution_count": null,
   "id": "affb8c10",
   "metadata": {},
   "outputs": [],
   "source": [
    "print(classification_report(test_sentiments_stp_wrds, predicted_sentiments_stp_wrds))"
   ]
  },
  {
   "cell_type": "code",
   "execution_count": null,
   "id": "a674f081",
   "metadata": {},
   "outputs": [],
   "source": [
    "sentiments_cf_matrix = confusion_matrix(test_sentiments_stp_wrds, predicted_sentiments_stp_wrds)"
   ]
  },
  {
   "cell_type": "code",
   "execution_count": null,
   "id": "b91e0827",
   "metadata": {},
   "outputs": [],
   "source": [
    "sns.heatmap(sentiments_cf_matrix)"
   ]
  },
  {
   "cell_type": "markdown",
   "id": "8d8a0d60",
   "metadata": {},
   "source": [
    "# Top-DT w/ Stop Words"
   ]
  },
  {
   "cell_type": "code",
   "execution_count": null,
   "id": "66483876",
   "metadata": {},
   "outputs": [],
   "source": [
    "from sklearn import tree\n",
    "from sklearn import preprocessing\n",
    "from sklearn.tree import export_graphviz"
   ]
  },
  {
   "cell_type": "code",
   "execution_count": null,
   "id": "cd514768",
   "metadata": {},
   "outputs": [],
   "source": [
    "X_train_top_dt_stp_wrds = vectorizer_stp_wrds.fit_transform(X_train)"
   ]
  },
  {
   "cell_type": "code",
   "execution_count": null,
   "id": "6c654404",
   "metadata": {},
   "outputs": [],
   "source": [
    "hyper_parameters = {'criterion':['gini', 'entropy'],'max_depth':[4,5], 'min_samples_split':[4,5,6]}"
   ]
  },
  {
   "cell_type": "code",
   "execution_count": null,
   "id": "a859909f",
   "metadata": {},
   "outputs": [],
   "source": [
    "top_dt_stp_wrds = GridSearchCV(tree.DecisionTreeClassifier(), hyper_parameters, cv=3)"
   ]
  },
  {
   "cell_type": "code",
   "execution_count": null,
   "id": "20b53432",
   "metadata": {},
   "outputs": [],
   "source": [
    "dt_emotions_stp_wrds = top_dt_stp_wrds.fit(X_train_top_dt_stp_wrds, emotions)\n",
    "dt_sentiments_stp_wrds = top_dt_stp_wrds.fit(X_train_top_dt_stp_wrds, sentiments)"
   ]
  },
  {
   "cell_type": "code",
   "execution_count": null,
   "id": "b89b1343",
   "metadata": {},
   "outputs": [],
   "source": [
    "score_dt_emotions_stp_wrds = top_dt_stp_wrds.score(X_train_top_dt_stp_wrds, emotions)\n",
    "score_dt_sentiments_stp_wrds = top_dt_stp_wrds.score(X_train_top_dt_stp_wrds, sentiments)\n",
    "print(\"emotions score: \", score_dt_emotions_stp_wrds)\n",
    "print(\"sentiments score: \", score_dt_sentiments_stp_wrds)"
   ]
  },
  {
   "cell_type": "markdown",
   "id": "7d4766e7",
   "metadata": {},
   "source": [
    "## Testing Top DT w/ Stop Words"
   ]
  },
  {
   "cell_type": "code",
   "execution_count": null,
   "id": "a4c744d7",
   "metadata": {},
   "outputs": [],
   "source": [
    "X_test_dt_stp_words = vectorizer_stp_wrds.transform(X_test)"
   ]
  },
  {
   "cell_type": "code",
   "execution_count": null,
   "id": "3fb48574",
   "metadata": {},
   "outputs": [],
   "source": [
    "predicted_emotions_stp_wrds_dt = dt_emotions_stp_wrds.predict(X_test_dt_stp_words)\n",
    "predicted_sentiments_stp_wrds_dt = dt_sentiments_stp_wrds.predict(X_test_dt_stp_words)"
   ]
  },
  {
   "cell_type": "code",
   "execution_count": null,
   "id": "ac18ccc4",
   "metadata": {},
   "outputs": [],
   "source": [
    "test_emotions_stp_wrds = y_test[:,0]\n",
    "test_sentiments_stp_wrds = y_test[:,1]"
   ]
  },
  {
   "cell_type": "markdown",
   "id": "6500d737",
   "metadata": {},
   "source": [
    "## Top DT Emotions Report"
   ]
  },
  {
   "cell_type": "code",
   "execution_count": null,
   "id": "04b14e66",
   "metadata": {},
   "outputs": [],
   "source": [
    "print(classification_report(test_emotions_stp_wrds, predicted_emotions_stp_wrds_dt))"
   ]
  },
  {
   "cell_type": "code",
   "execution_count": null,
   "id": "6b43c612",
   "metadata": {},
   "outputs": [],
   "source": [
    "emotions_cf_matrix = confusion_matrix(test_emotions_stp_wrds, predicted_emotions_stp_wrds_dt)"
   ]
  },
  {
   "cell_type": "code",
   "execution_count": null,
   "id": "79054b65",
   "metadata": {},
   "outputs": [],
   "source": [
    "sns.heatmap(emotions_cf_matrix)"
   ]
  },
  {
   "cell_type": "markdown",
   "id": "6645c7e5",
   "metadata": {},
   "source": [
    "## Top DT Sentiments Report"
   ]
  },
  {
   "cell_type": "code",
   "execution_count": null,
   "id": "623821c7",
   "metadata": {},
   "outputs": [],
   "source": [
    "print(classification_report(test_sentiments_stp_wrds, predicted_sentiments_stp_wrds_dt))"
   ]
  },
  {
   "cell_type": "code",
   "execution_count": null,
   "id": "0afcb57b",
   "metadata": {},
   "outputs": [],
   "source": [
    "sentiments_cf_matrix = confusion_matrix(test_sentiments_stp_wrds, predicted_sentiments_stp_wrds_dt)"
   ]
  },
  {
   "cell_type": "code",
   "execution_count": null,
   "id": "b3fe458e",
   "metadata": {},
   "outputs": [],
   "source": [
    "sns.heatmap(sentiments_cf_matrix)"
   ]
  }
 ],
 "metadata": {
  "kernelspec": {
   "display_name": "Python 3 (ipykernel)",
   "language": "python",
   "name": "python3"
  },
  "language_info": {
   "codemirror_mode": {
    "name": "ipython",
    "version": 3
   },
   "file_extension": ".py",
   "mimetype": "text/x-python",
   "name": "python",
   "nbconvert_exporter": "python",
   "pygments_lexer": "ipython3",
   "version": "3.8.10"
  }
 },
 "nbformat": 4,
 "nbformat_minor": 5
}
