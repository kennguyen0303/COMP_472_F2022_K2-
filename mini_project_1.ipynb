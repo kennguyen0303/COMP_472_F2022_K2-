{
 "cells": [
  {
   "cell_type": "code",
   "execution_count": null,
   "metadata": {},
   "outputs": [],
   "source": [
    "import gzip\n",
    "import json\n",
    "import numpy as np\n",
    "import matplotlib.pyplot as plt\n",
    "from sklearn.model_selection import train_test_split\n",
    "from sklearn.feature_extraction.text import CountVectorizer\n",
    "from sklearn.neural_network import MLPClassifier\n",
    "from sklearn.model_selection import GridSearchCV\n",
    "from sklearn.metrics import classification_report\n",
    "from sklearn.metrics import confusion_matrix"
   ]
  },
  {
   "cell_type": "code",
   "execution_count": null,
   "metadata": {},
   "outputs": [],
   "source": [
    "file = gzip.open('goemotions.json.gz')\n",
    "json_file = json.load(file)"
   ]
  },
  {
   "cell_type": "code",
   "execution_count": null,
   "metadata": {},
   "outputs": [],
   "source": [
    "emotions = np.array([])\n",
    "sentiments = np.array([])\n",
    "posts = np.array([1])\n",
    "json_file = np.asarray(json_file)\n",
    "\n",
    "posts = json_file[:,0]\n",
    "emotions = json_file[:,1]\n",
    "sentiments = json_file[:,2]"
   ]
  },
  {
   "cell_type": "code",
   "execution_count": null,
   "metadata": {
    "scrolled": false
   },
   "outputs": [],
   "source": [
    "plt.rcParams[\"figure.figsize\"] = [7.50, 3.50]\n",
    "plt.rcParams[\"figure.autolayout\"] = True\n",
    "fig = plt.figure()\n",
    "plt.hist(emotions, bins=range(29), align=\"left\", ec=\"white\")\n",
    "plt.xticks(rotation=45, ha=\"right\")\n",
    "plt.ylabel(\"number of posts\")\n",
    "plt.title(\"Distribution of the Emotion Label\")\n",
    "plt.savefig(\"emotion.pdf\", format=\"pdf\")\n",
    "plt.show()\n",
    "plt.ylabel(\"number of posts\")\n",
    "plt.hist(sentiments, bins=range(5), align=\"left\", ec=\"white\")\n",
    "plt.title(\"Distribution of the Sentiment Label\")\n",
    "plt.savefig(\"sentiment.pdf\", format=\"pdf\")\n",
    "plt.show()"
   ]
  },
  {
   "cell_type": "code",
   "execution_count": null,
   "metadata": {},
   "outputs": [],
   "source": [
    "import pandas as pd"
   ]
  },
  {
   "cell_type": "code",
   "execution_count": null,
   "metadata": {
    "scrolled": false
   },
   "outputs": [],
   "source": [
    "pie_data = pd.Series(emotions)\n",
    "pie_data.value_counts().plot(kind=\"pie\")"
   ]
  },
  {
   "cell_type": "code",
   "execution_count": null,
   "metadata": {},
   "outputs": [],
   "source": [
    "# 2.1. Vectorizer\n",
    "vectorizer = CountVectorizer()"
   ]
  },
  {
   "cell_type": "code",
   "execution_count": null,
   "metadata": {},
   "outputs": [],
   "source": [
    "text_dataset = vectorizer.fit_transform(posts)"
   ]
  },
  {
   "cell_type": "code",
   "execution_count": null,
   "metadata": {},
   "outputs": [],
   "source": [
    "\"\"\"\n",
    "each column in the feature vector refers to a word/token.\n",
    "each row in the feature vector is a post.\n",
    "if said post uses a word in the vectorizer's vocabulary exactly once, then it will be shown as a 1\n",
    "in the corresponding index of the vectorizer's vocabulary.\n",
    "therefore, adding up the column for each column will give you the frequency of each word\n",
    "\"\"\"\n",
    "def word_frequencies(dataset, vocabulary):\n",
    "    #add up the elements in the column for each column\n",
    "    frequency_array = dataset.sum(axis=0).tolist()[0]\n",
    "    \n",
    "    #add up the list of frequencies to get total size of words\n",
    "    total_sum = np.asarray(frequency_array).sum()\n",
    "    \n",
    "    #get words from feature vector\n",
    "    words = vocabulary.keys()\n",
    "    \n",
    "    #get corresponding indices for words in feature vector\n",
    "    indices = vocabulary.values()\n",
    "    \n",
    "    #since indices is a list of indices for the words at a 1:1 index, then we just map the frequencies value to the index\n",
    "    #in the indices list and we get a list of sums that map to words list 1:1\n",
    "    frequencies = list(map(lambda index: frequency_array[index], indices))\n",
    "    \n",
    "    #then just zip words list and frequencies list as a dictionary\n",
    "    return dict(zip(words, frequencies)), total_sum\n",
    "\n",
    "frequencies, total_sum = word_frequencies(text_dataset, vectorizer.vocabulary_)"
   ]
  },
  {
   "cell_type": "code",
   "execution_count": null,
   "metadata": {},
   "outputs": [],
   "source": [
    "# 2.2 Splitting the dataset\n",
    "training_set, test_set = train_test_split(json_file,train_size=0.8)\n",
    "\n",
    "# training set\n",
    "X_train = training_set[:, 0]\n",
    "y_train = training_set[:, 1:]\n",
    "\n",
    "# test set\n",
    "X_test = test_set[:, 0]\n",
    "y_test = test_set[:, 1:]"
   ]
  },
  {
   "cell_type": "markdown",
   "metadata": {},
   "source": [
    "# 2.3.1 BASE MNB"
   ]
  },
  {
   "cell_type": "code",
   "execution_count": null,
   "metadata": {},
   "outputs": [],
   "source": [
    "from sklearn.naive_bayes import MultinomialNB"
   ]
  },
  {
   "cell_type": "code",
   "execution_count": null,
   "metadata": {},
   "outputs": [],
   "source": [
    "X_train_mnb = vectorizer.fit_transform(X_train)"
   ]
  },
  {
   "cell_type": "code",
   "execution_count": null,
   "metadata": {},
   "outputs": [],
   "source": [
    "mnb_cl = MultinomialNB()"
   ]
  },
  {
   "cell_type": "code",
   "execution_count": null,
   "metadata": {},
   "outputs": [],
   "source": [
    "emotions = y_train[:,0]\n",
    "sentiments = y_train[:,1]\n",
    "mnb_emotions = mnb_cl.fit(X_train_mnb, emotions)\n",
    "mnb_sentiments = mnb_cl.fit(X_train_mnb, sentiments)"
   ]
  },
  {
   "cell_type": "code",
   "execution_count": null,
   "metadata": {},
   "outputs": [],
   "source": [
    "score_base_mnb_emotions = mnb_emotions.score(X_train_mnb, emotions)\n",
    "score_base_mnb_sentiments = mnb_sentiments.score(X_train_mnb, sentiments)\n",
    "print(\"emotions score: \", score_base_mnb_emotions)\n",
    "print(\"sentiments score: \", score_base_mnb_sentiments)"
   ]
  },
  {
   "cell_type": "markdown",
   "metadata": {},
   "source": [
    "### Testing Base MNB"
   ]
  },
  {
   "cell_type": "code",
   "execution_count": null,
   "metadata": {},
   "outputs": [],
   "source": [
    "X_test_base_mnb = vectorizer.transform(X_test)"
   ]
  },
  {
   "cell_type": "code",
   "execution_count": null,
   "metadata": {},
   "outputs": [],
   "source": [
    "predicted_emotions = mnb_emotions.predict(X_test_base_mnb)\n",
    "predicted_sentiments = mnb_sentiments.predict(X_test_base_mnb)\n",
    "test_emotions = y_test[:,0]\n",
    "test_sentiments = y_test[:,1]"
   ]
  },
  {
   "cell_type": "markdown",
   "metadata": {},
   "source": [
    "## 2.4.1 MNB Base Report"
   ]
  },
  {
   "cell_type": "markdown",
   "metadata": {},
   "source": [
    "### Report for emotions"
   ]
  },
  {
   "cell_type": "code",
   "execution_count": null,
   "metadata": {
    "scrolled": true
   },
   "outputs": [],
   "source": [
    "print(classification_report(test_emotions, predicted_emotions))"
   ]
  },
  {
   "cell_type": "code",
   "execution_count": null,
   "metadata": {
    "scrolled": true
   },
   "outputs": [],
   "source": [
    "emotions_cf_matrix = confusion_matrix(test_emotions, predicted_emotions)"
   ]
  },
  {
   "cell_type": "code",
   "execution_count": null,
   "metadata": {},
   "outputs": [],
   "source": [
    "import seaborn as sns\n",
    "sns.heatmap(emotions_cf_matrix)"
   ]
  },
  {
   "cell_type": "markdown",
   "metadata": {},
   "source": [
    "### Report for sentiments"
   ]
  },
  {
   "cell_type": "code",
   "execution_count": null,
   "metadata": {},
   "outputs": [],
   "source": [
    "print(classification_report(test_sentiments, predicted_sentiments))"
   ]
  },
  {
   "cell_type": "code",
   "execution_count": null,
   "metadata": {},
   "outputs": [],
   "source": [
    "sentiments_cf_matrix = confusion_matrix(test_sentiments, predicted_sentiments)"
   ]
  },
  {
   "cell_type": "code",
   "execution_count": null,
   "metadata": {},
   "outputs": [],
   "source": [
    "sns.heatmap(sentiments_cf_matrix)"
   ]
  },
  {
   "cell_type": "markdown",
   "metadata": {},
   "source": [
    "# 2.3.5 TOP DECISION TREE"
   ]
  },
  {
   "cell_type": "code",
   "execution_count": null,
   "metadata": {},
   "outputs": [],
   "source": [
    "from sklearn import tree\n",
    "from sklearn import preprocessing\n",
    "from sklearn.tree import export_graphviz"
   ]
  },
  {
   "cell_type": "code",
   "execution_count": null,
   "metadata": {},
   "outputs": [],
   "source": [
    "X_train_dt = vectorizer.fit_transform(X_train)"
   ]
  },
  {
   "cell_type": "code",
   "execution_count": null,
   "metadata": {},
   "outputs": [],
   "source": [
    "hyper_parameters = {'criterion':['gini', 'entropy'],'max_depth':[4,5], 'min_samples_split':[4,5,6]}"
   ]
  },
  {
   "cell_type": "code",
   "execution_count": null,
   "metadata": {},
   "outputs": [],
   "source": [
    "top_dt = GridSearchCV(tree.DecisionTreeClassifier(), hyper_parameters, cv=3)"
   ]
  },
  {
   "cell_type": "code",
   "execution_count": null,
   "metadata": {},
   "outputs": [],
   "source": [
    "emotions = y_train[:,0]\n",
    "sentiments = y_train[:,1]\n",
    "dt_emotions = top_dt.fit(X_train_dt, emotions)\n",
    "dt_sentiments = top_dt.fit(X_train_dt, sentiments)"
   ]
  },
  {
   "cell_type": "code",
   "execution_count": null,
   "metadata": {},
   "outputs": [],
   "source": [
    "score_dt_emotions = top_dt.score(X_train_dt, emotions)\n",
    "score_dt_sentiments = top_dt.score(X_train_dt, sentiments)\n",
    "print(\"emotions score: \", score_dt_emotions)\n",
    "print(\"sentiments score: \", score_dt_sentiments)"
   ]
  },
  {
   "cell_type": "code",
   "execution_count": null,
   "metadata": {},
   "outputs": [],
   "source": [
    "print(dt_emotions.best_estimator_)\n",
    "print(dt_sentiments.best_estimator_)"
   ]
  },
  {
   "cell_type": "markdown",
   "metadata": {},
   "source": [
    "## Testing Top Decision Tree"
   ]
  },
  {
   "cell_type": "code",
   "execution_count": null,
   "metadata": {},
   "outputs": [],
   "source": [
    "X_test_dt = vectorizer.transform(X_test)"
   ]
  },
  {
   "cell_type": "code",
   "execution_count": null,
   "metadata": {},
   "outputs": [],
   "source": [
    "predicted_emotions = dt_emotions.predict(X_test_dt)\n",
    "predicted_sentiments = dt_sentiments.predict(X_test_dt)"
   ]
  },
  {
   "cell_type": "code",
   "execution_count": null,
   "metadata": {},
   "outputs": [],
   "source": [
    "test_emotions = y_test[:,0]\n",
    "test_sentiments = y_test[:,1]"
   ]
  },
  {
   "cell_type": "markdown",
   "metadata": {},
   "source": [
    "## 2.4.5 Top Decision Tree Report"
   ]
  },
  {
   "cell_type": "markdown",
   "metadata": {},
   "source": [
    "### Report for emotions"
   ]
  },
  {
   "cell_type": "code",
   "execution_count": null,
   "metadata": {
    "scrolled": true
   },
   "outputs": [],
   "source": [
    "print(classification_report(test_emotions, predicted_emotions))"
   ]
  },
  {
   "cell_type": "code",
   "execution_count": null,
   "metadata": {},
   "outputs": [],
   "source": [
    "emotions_cf_matrix = confusion_matrix(test_emotions, predicted_emotions)"
   ]
  },
  {
   "cell_type": "code",
   "execution_count": null,
   "metadata": {},
   "outputs": [],
   "source": [
    "sns.heatmap(emotions_cf_matrix)"
   ]
  },
  {
   "cell_type": "markdown",
   "metadata": {},
   "source": [
    "### Report for sentiments"
   ]
  },
  {
   "cell_type": "code",
   "execution_count": null,
   "metadata": {
    "scrolled": true
   },
   "outputs": [],
   "source": [
    "print(classification_report(test_sentiments, predicted_sentiments))"
   ]
  },
  {
   "cell_type": "code",
   "execution_count": null,
   "metadata": {},
   "outputs": [],
   "source": [
    "sentiments_cf_matrix = confusion_matrix(test_sentiments, predicted_sentiments)"
   ]
  },
  {
   "cell_type": "code",
   "execution_count": null,
   "metadata": {},
   "outputs": [],
   "source": [
    "sns.heatmap(sentiments_cf_matrix)"
   ]
  },
  {
   "cell_type": "markdown",
   "metadata": {},
   "source": [
    "# 2.5 Removing Stop Words"
   ]
  },
  {
   "cell_type": "code",
   "execution_count": null,
   "metadata": {},
   "outputs": [],
   "source": [
    "from sklearn.naive_bayes import MultinomialNB"
   ]
  },
  {
   "cell_type": "code",
   "execution_count": null,
   "metadata": {},
   "outputs": [],
   "source": [
    "vectorizer_stp_wrds = CountVectorizer(stop_words=\"english\")"
   ]
  },
  {
   "cell_type": "code",
   "execution_count": null,
   "metadata": {},
   "outputs": [],
   "source": [
    "mnb_cl = MultinomialNB()"
   ]
  },
  {
   "cell_type": "code",
   "execution_count": null,
   "metadata": {},
   "outputs": [],
   "source": [
    "# 2.2 Splitting the dataset\n",
    "training_set, test_set = train_test_split(json_file,train_size=0.8)\n",
    "\n",
    "# training set\n",
    "X_train = training_set[:, 0]\n",
    "y_train = training_set[:, 1:]\n",
    "\n",
    "# test set\n",
    "X_test = test_set[:, 0]\n",
    "y_test = test_set[:, 1:]"
   ]
  },
  {
   "cell_type": "code",
   "execution_count": null,
   "metadata": {},
   "outputs": [],
   "source": [
    "X_train_mnb_stp_wrds = vectorizer_stp_wrds.fit_transform(X_train)"
   ]
  },
  {
   "cell_type": "code",
   "execution_count": null,
   "metadata": {},
   "outputs": [],
   "source": [
    "emotions = y_train[:,0]\n",
    "sentiments = y_train[:,1]\n",
    "mnb_emotions_stp_wrds = mnb_cl.fit(X_train_mnb_stp_wrds, emotions)\n",
    "mnb_sentiments_stp_wrds = mnb_cl.fit(X_train_mnb_stp_wrds, sentiments)"
   ]
  },
  {
   "cell_type": "code",
   "execution_count": null,
   "metadata": {},
   "outputs": [],
   "source": [
    "score_mnb_stp_wrds_emotions = mnb_cl.score(X_train_mnb_stp_wrds, emotions)\n",
    "score_mnb_stp_wrds_sentiments = mnb_cl.score(X_train_mnb_stp_wrds, sentiments)\n",
    "print(\"emotions score: \", score_mnb_stp_wrds_emotions)\n",
    "print(\"sentiments score: \", score_mnb_stp_wrds_sentiments)"
   ]
  },
  {
   "cell_type": "markdown",
   "metadata": {},
   "source": [
    "## Testing MNB w/ Stop Words"
   ]
  },
  {
   "cell_type": "code",
   "execution_count": null,
   "metadata": {},
   "outputs": [],
   "source": [
    "X_test_mnb_stp_wrds = vectorizer_stp_wrds.transform(X_test)"
   ]
  },
  {
   "cell_type": "code",
   "execution_count": null,
   "metadata": {},
   "outputs": [],
   "source": [
    "predicted_emotions_stp_wrds = mnb_emotions_stp_wrds.predict(X_test_mnb_stp_wrds)\n",
    "predicted_sentiments_stp_wrds = mnb_sentiments_stp_wrds.predict(X_test_mnb_stp_wrds)\n",
    "test_emotions_stp_wrds = y_test[:,0]\n",
    "test_sentiments_stp_wrds = y_test[:,1]"
   ]
  },
  {
   "cell_type": "markdown",
   "metadata": {},
   "source": [
    "## Report for emotions"
   ]
  },
  {
   "cell_type": "code",
   "execution_count": null,
   "metadata": {},
   "outputs": [],
   "source": [
    "print(classification_report(test_emotions_stp_wrds, predicted_emotions_stp_wrds))"
   ]
  },
  {
   "cell_type": "code",
   "execution_count": null,
   "metadata": {},
   "outputs": [],
   "source": [
    "emotions_cf_matrix = confusion_matrix(test_emotions_stp_wrds, predicted_emotions_stp_wrds)"
   ]
  },
  {
   "cell_type": "code",
   "execution_count": null,
   "metadata": {},
   "outputs": [],
   "source": [
    "import seaborn as sns\n",
    "sns.heatmap(emotions_cf_matrix)"
   ]
  },
  {
   "cell_type": "markdown",
   "metadata": {},
   "source": [
    "## Report for sentiments"
   ]
  },
  {
   "cell_type": "code",
   "execution_count": null,
   "metadata": {},
   "outputs": [],
   "source": [
    "print(classification_report(test_sentiments_stp_wrds, predicted_sentiments_stp_wrds))"
   ]
  },
  {
   "cell_type": "code",
   "execution_count": null,
   "metadata": {},
   "outputs": [],
   "source": [
    "sentiments_cf_matrix = confusion_matrix(test_sentiments_stp_wrds, predicted_sentiments_stp_wrds)"
   ]
  },
  {
   "cell_type": "code",
   "execution_count": null,
   "metadata": {},
   "outputs": [],
   "source": [
    "sns.heatmap(sentiments_cf_matrix)"
   ]
  },
  {
   "cell_type": "markdown",
   "metadata": {},
   "source": [
    "# Top-DT w/ Stop Words"
   ]
  },
  {
   "cell_type": "code",
   "execution_count": null,
   "metadata": {},
   "outputs": [],
   "source": [
    "from sklearn import tree\n",
    "from sklearn import preprocessing\n",
    "from sklearn.tree import export_graphviz"
   ]
  },
  {
   "cell_type": "code",
   "execution_count": null,
   "metadata": {},
   "outputs": [],
   "source": [
    "X_train_top_dt_stp_wrds = vectorizer_stp_wrds.fit_transform(X_train)"
   ]
  },
  {
   "cell_type": "code",
   "execution_count": null,
   "metadata": {},
   "outputs": [],
   "source": [
    "hyper_parameters = {'criterion':['gini', 'entropy'],'max_depth':[4,5], 'min_samples_split':[4,5,6]}"
   ]
  },
  {
   "cell_type": "code",
   "execution_count": null,
   "metadata": {},
   "outputs": [],
   "source": [
    "top_dt_stp_wrds = GridSearchCV(tree.DecisionTreeClassifier(), hyper_parameters, cv=3)"
   ]
  },
  {
   "cell_type": "code",
   "execution_count": null,
   "metadata": {},
   "outputs": [],
   "source": [
    "dt_emotions_stp_wrds = top_dt_stp_wrds.fit(X_train_top_dt_stp_wrds, emotions)\n",
    "dt_sentiments_stp_wrds = top_dt_stp_wrds.fit(X_train_top_dt_stp_wrds, sentiments)"
   ]
  },
  {
   "cell_type": "code",
   "execution_count": null,
   "metadata": {},
   "outputs": [],
   "source": [
    "score_dt_emotions_stp_wrds = top_dt_stp_wrds.score(X_train_top_dt_stp_wrds, emotions)\n",
    "score_dt_sentiments_stp_wrds = top_dt_stp_wrds.score(X_train_top_dt_stp_wrds, sentiments)\n",
    "print(\"emotions score: \", score_dt_emotions_stp_wrds)\n",
    "print(\"sentiments score: \", score_dt_sentiments_stp_wrds)"
   ]
  },
  {
   "cell_type": "markdown",
   "metadata": {},
   "source": [
    "## Testing Top DT w/ Stop Words"
   ]
  },
  {
   "cell_type": "code",
   "execution_count": null,
   "metadata": {},
   "outputs": [],
   "source": [
    "X_test_dt_stp_words = vectorizer_stp_wrds.transform(X_test)"
   ]
  },
  {
   "cell_type": "code",
   "execution_count": null,
   "metadata": {},
   "outputs": [],
   "source": [
    "predicted_emotions_stp_wrds_dt = dt_emotions_stp_wrds.predict(X_test_dt_stp_words)\n",
    "predicted_sentiments_stp_wrds_dt = dt_sentiments_stp_wrds.predict(X_test_dt_stp_words)"
   ]
  },
  {
   "cell_type": "code",
   "execution_count": null,
   "metadata": {},
   "outputs": [],
   "source": [
    "test_emotions_stp_wrds = y_test[:,0]\n",
    "test_sentiments_stp_wrds = y_test[:,1]"
   ]
  },
  {
   "cell_type": "markdown",
   "metadata": {},
   "source": [
    "## Top DT Emotions Report"
   ]
  },
  {
   "cell_type": "code",
   "execution_count": null,
   "metadata": {},
   "outputs": [],
   "source": [
    "print(classification_report(test_emotions_stp_wrds, predicted_emotions_stp_wrds_dt))"
   ]
  },
  {
   "cell_type": "code",
   "execution_count": null,
   "metadata": {},
   "outputs": [],
   "source": [
    "emotions_cf_matrix = confusion_matrix(test_emotions_stp_wrds, predicted_emotions_stp_wrds_dt)"
   ]
  },
  {
   "cell_type": "code",
   "execution_count": null,
   "metadata": {},
   "outputs": [],
   "source": [
    "sns.heatmap(emotions_cf_matrix)"
   ]
  },
  {
   "cell_type": "markdown",
   "metadata": {},
   "source": [
    "## Top DT Sentiments Report"
   ]
  },
  {
   "cell_type": "code",
   "execution_count": null,
   "metadata": {},
   "outputs": [],
   "source": [
    "print(classification_report(test_sentiments_stp_wrds, predicted_sentiments_stp_wrds_dt))"
   ]
  },
  {
   "cell_type": "code",
   "execution_count": null,
   "metadata": {},
   "outputs": [],
   "source": [
    "sentiments_cf_matrix = confusion_matrix(test_sentiments_stp_wrds, predicted_sentiments_stp_wrds_dt)"
   ]
  },
  {
   "cell_type": "code",
   "execution_count": null,
   "metadata": {},
   "outputs": [],
   "source": [
    "sns.heatmap(sentiments_cf_matrix)"
   ]
  },
  {
   "cell_type": "markdown",
   "metadata": {},
   "source": [
    "# Part 3: Embeddings as Features"
   ]
  },
  {
   "cell_type": "markdown",
   "metadata": {},
   "source": [
    "### 3.1"
   ]
  },
  {
   "cell_type": "code",
   "execution_count": null,
   "metadata": {},
   "outputs": [],
   "source": [
    "import gensim.downloader as api"
   ]
  },
  {
   "cell_type": "code",
   "execution_count": null,
   "metadata": {},
   "outputs": [],
   "source": [
    "w2v_model = api.load(\"word2vec-google-news-300\")"
   ]
  },
  {
   "cell_type": "markdown",
   "metadata": {},
   "source": [
    "### 3.2"
   ]
  },
  {
   "cell_type": "code",
   "execution_count": null,
   "metadata": {},
   "outputs": [],
   "source": [
    "import nltk\n",
    "nltk.download()"
   ]
  },
  {
   "cell_type": "code",
   "execution_count": null,
   "metadata": {},
   "outputs": [],
   "source": [
    "word_tokens = [nltk.word_tokenize(corpus, language=\"english\") for corpus in X_train]"
   ]
  },
  {
   "cell_type": "code",
   "execution_count": null,
   "metadata": {},
   "outputs": [],
   "source": [
    "import pandas as pd\n",
    "import itertools"
   ]
  },
  {
   "cell_type": "code",
   "execution_count": null,
   "metadata": {
    "scrolled": true
   },
   "outputs": [],
   "source": [
    "flattened_tokens = list(itertools.chain.from_iterable(word_tokens))\n",
    "pd.Series(flattened_tokens).value_counts()"
   ]
  },
  {
   "cell_type": "markdown",
   "metadata": {},
   "source": [
    "### 3.3"
   ]
  },
  {
   "cell_type": "code",
   "execution_count": null,
   "metadata": {},
   "outputs": [],
   "source": [
    "def get_post_embedding(model, post):\n",
    "    tokens = nltk.word_tokenize(post)\n",
    "    words = [word for word in tokens if word in model]\n",
    "    if len(words)>0:\n",
    "        return np.mean(w2v_model[words], axis=0)\n",
    "    else:\n",
    "        return []"
   ]
  },
  {
   "cell_type": "code",
   "execution_count": null,
   "metadata": {},
   "outputs": [],
   "source": [
    "training_post_embeddings = [get_post_embedding(w2v_model, post) for post in X_train]"
   ]
  },
  {
   "cell_type": "code",
   "execution_count": null,
   "metadata": {},
   "outputs": [],
   "source": []
  }
 ],
 "metadata": {
  "kernelspec": {
   "display_name": "Python 3",
   "language": "python",
   "name": "python3"
  },
  "language_info": {
   "codemirror_mode": {
    "name": "ipython",
    "version": 3
   },
   "file_extension": ".py",
   "mimetype": "text/x-python",
   "name": "python",
   "nbconvert_exporter": "python",
   "pygments_lexer": "ipython3",
   "version": "3.8.5"
  }
 },
 "nbformat": 4,
 "nbformat_minor": 5
}
