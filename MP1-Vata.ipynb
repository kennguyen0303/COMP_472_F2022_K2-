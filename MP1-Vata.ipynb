{
 "cells": [
  {
   "cell_type": "code",
   "execution_count": null,
   "id": "b4f5c7aa",
   "metadata": {},
   "outputs": [],
   "source": [
    "import gzip\n",
    "import json\n",
    "import numpy as np\n",
    "import matplotlib.pyplot as plt\n",
    "from sklearn.model_selection import train_test_split\n",
    "from sklearn.feature_extraction.text import CountVectorizer\n",
    "from sklearn.neural_network import MLPClassifier\n",
    "from sklearn.model_selection import GridSearchCV\n",
    "from sklearn.metrics import plot_confusion_matrix\n",
    "from sklearn.metrics import classification_report\n",
    "from sklearn.metrics import plot_confusion_matrix"
   ]
  },
  {
   "cell_type": "markdown",
   "id": "3e6d7a4a",
   "metadata": {},
   "source": [
    "# 1 Dataset Preparation & Analysis"
   ]
  },
  {
   "cell_type": "markdown",
   "id": "8a1c848a",
   "metadata": {},
   "source": [
    "### 1.2 Dataset Loading"
   ]
  },
  {
   "cell_type": "code",
   "execution_count": null,
   "id": "c1d8babb",
   "metadata": {},
   "outputs": [],
   "source": [
    "file = gzip.open('goemotions.json.gz')\n",
    "json_file = json.load(file)"
   ]
  },
  {
   "cell_type": "markdown",
   "id": "e92255a2",
   "metadata": {},
   "source": [
    "### 1.3 Posts, Labels Extraction and Plots"
   ]
  },
  {
   "cell_type": "code",
   "execution_count": null,
   "id": "28825c5c",
   "metadata": {},
   "outputs": [],
   "source": [
    "emotions = np.array([])\n",
    "sentiments = np.array([])\n",
    "posts = np.array([1])\n",
    "json_file = np.asarray(json_file)\n",
    "\n",
    "posts = json_file[:,0]\n",
    "emotions = json_file[:,1]\n",
    "sentiments = json_file[:,2]"
   ]
  },
  {
   "cell_type": "code",
   "execution_count": null,
   "id": "86442da8",
   "metadata": {
    "scrolled": false
   },
   "outputs": [],
   "source": [
    "plt.rcParams[\"figure.figsize\"] = [7.50, 3.50]\n",
    "plt.rcParams[\"figure.autolayout\"] = True\n",
    "fig = plt.figure()\n",
    "plt.hist(emotions, bins=range(29), align=\"left\", ec=\"white\")\n",
    "plt.xticks(rotation=45, ha=\"right\")\n",
    "plt.ylabel(\"number of posts\")\n",
    "plt.title(\"Distribution of the Emotion Label\")\n",
    "plt.savefig(\"emotion.pdf\", format=\"pdf\")\n",
    "plt.show()\n",
    "plt.ylabel(\"number of posts\")\n",
    "plt.hist(sentiments, bins=range(5), align=\"left\", ec=\"white\")\n",
    "plt.title(\"Distribution of the Sentiment Label\")\n",
    "plt.savefig(\"sentiment.pdf\", format=\"pdf\")\n",
    "plt.show()"
   ]
  },
  {
   "cell_type": "markdown",
   "id": "7a1f8ff3",
   "metadata": {},
   "source": [
    "# 2 Words as Features"
   ]
  },
  {
   "cell_type": "markdown",
   "id": "dfeabd24",
   "metadata": {},
   "source": [
    "#### Vectorizer\n",
    "Extracts all the tokens from each post and returns a term matrix."
   ]
  },
  {
   "cell_type": "code",
   "execution_count": null,
   "id": "8f26f024",
   "metadata": {},
   "outputs": [],
   "source": [
    "vectorizer = CountVectorizer()"
   ]
  },
  {
   "cell_type": "code",
   "execution_count": null,
   "id": "c1613d27",
   "metadata": {},
   "outputs": [],
   "source": [
    "text_dataset = vectorizer.fit_transform(posts)"
   ]
  },
  {
   "cell_type": "markdown",
   "id": "318bf465",
   "metadata": {},
   "source": [
    "#### Data Preparation"
   ]
  },
  {
   "cell_type": "code",
   "execution_count": null,
   "id": "f48cad2a",
   "metadata": {},
   "outputs": [],
   "source": [
    "sentiments_vectorizer = CountVectorizer()\n",
    "sentiments_vectorizer.fit_transform(sentiments)\n",
    "\n",
    "emotions_vectorizer = CountVectorizer()\n",
    "emotions_vectorizer.fit_transform(emotions)"
   ]
  },
  {
   "cell_type": "markdown",
   "id": "a2a4a54d",
   "metadata": {},
   "source": [
    "#### Labels to Integers Conversion and Data Splitting"
   ]
  },
  {
   "cell_type": "markdown",
   "id": "c4228a15",
   "metadata": {},
   "source": [
    "`posts_train`/`test` training and testing sets for the inputs  \n",
    "`emotions_train`/`test` training and testing sets for the emotion labels  \n",
    "`sentiments_train`/`test` training and testing sets for the sentiment labels"
   ]
  },
  {
   "cell_type": "code",
   "execution_count": null,
   "id": "93416412",
   "metadata": {},
   "outputs": [],
   "source": [
    "sentiments_index = np.asarray(list(map(lambda s: sentiments_vectorizer.vocabulary_[s], sentiments)))\n",
    "emotions_index = np.asarray(list(map(lambda e: emotions_vectorizer.vocabulary_[e], emotions)))\n",
    "\n",
    "sentiments_train, sentiments_test = train_test_split(sentiments_index,train_size=0.8)\n",
    "emotions_train, emotions_test = train_test_split(emotions_index, train_size=0.8)\n",
    "posts_train, posts_test = train_test_split(text_dataset,train_size=0.8)"
   ]
  },
  {
   "cell_type": "markdown",
   "id": "d4c192e9",
   "metadata": {},
   "source": [
    "## 2.3 Training and Testing"
   ]
  },
  {
   "cell_type": "code",
   "execution_count": null,
   "id": "93554357",
   "metadata": {},
   "outputs": [],
   "source": [
    "mlp_model_base_e = MLPClassifier(max_iter=20)\n",
    "mlp_model_base_s = MLPClassifier(max_iter=20)"
   ]
  },
  {
   "cell_type": "markdown",
   "id": "eb60b53c",
   "metadata": {},
   "source": [
    "### 2.3.3 Base-MLP\n",
    "Training with default parameters."
   ]
  },
  {
   "cell_type": "markdown",
   "id": "e7a6cda3",
   "metadata": {},
   "source": [
    "#### Emotions Classification"
   ]
  },
  {
   "cell_type": "code",
   "execution_count": null,
   "id": "d5e595e7",
   "metadata": {},
   "outputs": [],
   "source": [
    "mlp_model_base_e.fit(posts_train, emotions_train)"
   ]
  },
  {
   "cell_type": "markdown",
   "id": "64950a33",
   "metadata": {},
   "source": [
    "#### Sentiments Classification"
   ]
  },
  {
   "cell_type": "code",
   "execution_count": null,
   "id": "b49ced40",
   "metadata": {},
   "outputs": [],
   "source": [
    "mlp_model_base_s.fit(posts_train, sentiments_train)"
   ]
  },
  {
   "cell_type": "markdown",
   "id": "0ab2b17e",
   "metadata": {},
   "source": [
    "### 2.3.6 Top-MLP\n",
    "Using `GridSearchCV` to cross-validate the model with the most optimal hyperparameters."
   ]
  },
  {
   "cell_type": "markdown",
   "id": "9b7fed3c",
   "metadata": {},
   "source": [
    "**Hidden Layers:** (30, 50,), (10, 10, 10,)  \n",
    "**Activation Functions:** sigmoid, tanh, ReLU, identity  \n",
    "**Optimisers:** adam, sgd"
   ]
  },
  {
   "cell_type": "code",
   "execution_count": null,
   "id": "6499f952",
   "metadata": {},
   "outputs": [],
   "source": [
    "parameters = {'hidden_layer_sizes': [(30, 50,), (10, 10, 10,)],\n",
    "                'activation': ['logistic', 'tanh', 'relu', 'identity'],\n",
    "                 'solver': ['sgd', 'adam']}\n",
    "mlp = MLPClassifier(max_iter=20)\n",
    "\n",
    "mlp_model_top_e = GridSearchCV(estimator = mlp, param_grid = parameters, n_jobs=-1)\n",
    "mlp_model_top_s = GridSearchCV(mlp, parameters)"
   ]
  },
  {
   "cell_type": "markdown",
   "id": "1b45faaa",
   "metadata": {},
   "source": [
    "#### Emotions Classification"
   ]
  },
  {
   "cell_type": "code",
   "execution_count": null,
   "id": "60a028b1",
   "metadata": {},
   "outputs": [],
   "source": [
    "mlp_model_top_e.fit(posts_train, emotions_train)"
   ]
  },
  {
   "cell_type": "markdown",
   "id": "fa97daf3",
   "metadata": {},
   "source": [
    "#### Sentiments Classification"
   ]
  },
  {
   "cell_type": "code",
   "execution_count": null,
   "id": "1dd3fd6d",
   "metadata": {},
   "outputs": [],
   "source": [
    "mlp_model_top_s.fit(posts_train, sentiments_train)"
   ]
  },
  {
   "cell_type": "markdown",
   "id": "26396993",
   "metadata": {},
   "source": [
    "## 2.4 Saving Performance"
   ]
  },
  {
   "cell_type": "markdown",
   "id": "134691c4",
   "metadata": {},
   "source": [
    "#### Predictions"
   ]
  },
  {
   "cell_type": "code",
   "execution_count": null,
   "id": "3b608c57",
   "metadata": {},
   "outputs": [],
   "source": [
    "pred_base_e = mlp_model_base_e.predict(posts_test)\n",
    "pred_base_s = mlp_model_base_s.predict(posts_test)\n",
    "pred_top_e = mlp_model_top_e.predict(posts_test)\n",
    "pred_top_s = mlp_model_top_s.predict(posts_test)"
   ]
  },
  {
   "cell_type": "markdown",
   "id": "7fd55c5c",
   "metadata": {},
   "source": [
    "#### Keys Retrieval\n",
    "Gets the key (emotion/sentiment) given a value (index in `vocabulary_`)."
   ]
  },
  {
   "cell_type": "markdown",
   "id": "81696dd1",
   "metadata": {},
   "source": [
    "`emotion_classes` all the emotion labels  \n",
    "`sentiment_classes` all the sentiment labels"
   ]
  },
  {
   "cell_type": "code",
   "execution_count": null,
   "id": "d89e8ef1",
   "metadata": {},
   "outputs": [],
   "source": [
    "def getKey(d, value):\n",
    "    for i in list(range(len(d))):\n",
    "        k, v = list(d.items())[i]\n",
    "        if v == value:\n",
    "            return k\n",
    "\n",
    "emotion_classes = list(map(lambda v : getKey(emotions_vectorizer.vocabulary_, v), mlp_model_base_e.classes_))\n",
    "sentiment_classes = list(map(lambda v : getKey(sentiments_vectorizer.vocabulary_, v), mlp_model_base_s.classes_))"
   ]
  },
  {
   "cell_type": "markdown",
   "id": "729f3034",
   "metadata": {},
   "source": [
    "#### Models Description"
   ]
  },
  {
   "cell_type": "code",
   "execution_count": null,
   "id": "ecac39d0",
   "metadata": {},
   "outputs": [],
   "source": [
    "models = [mlp_model_base_e, mlp_model_base_s, mlp_model_top_e, mlp_model_top_s]\n",
    "\n",
    "with open('mlp_performance.txt', 'w') as f:\n",
    "    f.write(\"Base MLP for emotions classification\\nDefault parameters\\n\"\n",
    "           + \"----------------------------------------------------\\n\")\n",
    "    f.write(str(classification_report(y_true=emotions_test, y_pred=pred_base_e, target_names=emotion_classes)))\n",
    "    f.write(\"=====================================================\\n\\n\")\n",
    "    \n",
    "    f.write(\"Base MLP for sentiments classification\\nDefault parameters\\n\"\n",
    "           + \"-----------------------------------------------------\\n\")\n",
    "    f.write(str(classification_report(y_true=sentiments_test, y_pred=pred_base_s, target_names=sentiment_classes)))\n",
    "    f.write(\"=====================================================\\n\\n\")\n",
    "    \n",
    "    f.write(\"Top MLP for emotions classification\\n\" + str(mlp_model_top_e.best_params_) + \"\\n\"\n",
    "           + \"-----------------------------------------------------\\n\")\n",
    "    f.write(str(classification_report(y_true=emotions_test, y_pred=pred_top_e, target_names=emotion_classes)))\n",
    "    f.write(\"=====================================================\\n\\n\")\n",
    "    \n",
    "    f.write(\"Top MLP for sentiments classification\\n\" + str(mlp_model_top_s.best_params_) + \"\\n\"\n",
    "           + \"-----------------------------------------------------\\n\")\n",
    "    f.write(str(classification_report(y_true=sentiments_test, y_pred=pred_top_s, target_names=sentiment_classes)))\n",
    "    f.write(\"=====================================================\\n\\n\")"
   ]
  },
  {
   "cell_type": "markdown",
   "id": "9a9b0db3",
   "metadata": {},
   "source": [
    "#### Confusion Matrices\n",
    "Uncomment a pair of items in each iterable to run. "
   ]
  },
  {
   "cell_type": "code",
   "execution_count": null,
   "id": "8624a884",
   "metadata": {
    "scrolled": false
   },
   "outputs": [],
   "source": [
    "from sklearn.metrics import confusion_matrix, ConfusionMatrixDisplay\n",
    "\n",
    "classifiers = {\n",
    "#     \"Base MLP for Emotions Classification\": mlp_model_base_e,\n",
    "#     \"Top MLP for Emotions Classification\": mlp_model_top_e,\n",
    "#     \"Base MLP for Sentiments Classification\": mlp_model_base_s,\n",
    "#     \"Top MLP for Sentiments Classification\": mlp_model_top_s,\n",
    "    \n",
    "#     \"Base MLP for Emotions Classification with Stopwords\": mlp_model_base_e_new,\n",
    "#     \"Top MLP for Emotions Classification with Stopwords\": mlp_model_top_e_new,\n",
    "#     \"Base MLP for Sentiments Classification with Stopwords\": mlp_model_base_s_new,\n",
    "#     \"Top MLP for Sentiments Classification with Stopwords\": mlp_model_top_s_new,\n",
    "}\n",
    "\n",
    "y_test = [\n",
    "#             emotions_test, \n",
    "#             emotions_test, \n",
    "#             sentiments_test, \n",
    "#             sentiments_test,\n",
    "    \n",
    "#             emotions_test, \n",
    "#             emotions_test, \n",
    "#             sentiments_test, \n",
    "#             sentiments_test,\n",
    "         ]\n",
    "y_pred = [\n",
    "#             pred_base_e, \n",
    "#             pred_top_e, \n",
    "#             pred_base_s, \n",
    "#             pred_top_s,\n",
    "    \n",
    "#             pred_base_e_new, \n",
    "#             pred_top_e_new, \n",
    "#             pred_base_s_new, \n",
    "#             pred_top_s_new,\n",
    "         ]\n",
    "labels = [\n",
    "#             emotion_classes, \n",
    "#             emotion_classes, \n",
    "#             sentiment_classes, \n",
    "#             sentiment_classes,\n",
    "    \n",
    "#             emotion_classes, \n",
    "#             emotion_classes, \n",
    "#             sentiment_classes, \n",
    "#             sentiment_classes,\n",
    "         ]\n",
    "\n",
    "f, axes = plt.subplots(1, 2, figsize=(20, 20), sharey='row')\n",
    "\n",
    "for i, (key, classifier) in enumerate(classifiers.items()):\n",
    "    cf_matrix = confusion_matrix(y_test[i], y_pred[i])\n",
    "    disp = ConfusionMatrixDisplay(cf_matrix,\n",
    "                                  display_labels=labels[i])\n",
    "    disp.plot(ax=axes[i], xticks_rotation=45)\n",
    "    disp.ax_.set_title(key)\n",
    "    disp.im_.colorbar.remove()\n",
    "    disp.ax_.set_xlabel('')\n",
    "    if i!=0:\n",
    "        disp.ax_.set_ylabel('')\n",
    "\n",
    "f.text(0.5, 0.2, 'Predicted label', ha='left')\n",
    "plt.subplots_adjust(wspace=0.40, hspace=0.4)\n",
    "\n",
    "\n",
    "# f.colorbar(disp.im_, shrink=0.7, ax=axes)\n",
    "plt.savefig(\"Confusion Matrix for Emotions Classification.pdf\", format=\"pdf\")\n",
    "plt.show()\n"
   ]
  },
  {
   "cell_type": "markdown",
   "id": "9227559d",
   "metadata": {},
   "source": [
    "## 2.5 Exploration\n",
    "Removing stop words and redoing the **2.3**"
   ]
  },
  {
   "cell_type": "code",
   "execution_count": null,
   "id": "0789237b",
   "metadata": {},
   "outputs": [],
   "source": [
    "vectorizer_new = CountVectorizer(stop_words='english')"
   ]
  },
  {
   "cell_type": "code",
   "execution_count": null,
   "id": "4ebaefab",
   "metadata": {},
   "outputs": [],
   "source": [
    "text_dataset_new = vectorizer_new.fit_transform(posts)"
   ]
  },
  {
   "cell_type": "code",
   "execution_count": null,
   "id": "d216a8e6",
   "metadata": {},
   "outputs": [],
   "source": [
    "posts_train_new, posts_test_new = train_test_split(text_dataset_new,train_size=0.8)"
   ]
  },
  {
   "cell_type": "code",
   "execution_count": null,
   "id": "1bb63d6b",
   "metadata": {},
   "outputs": [],
   "source": [
    "mlp_model_base_e_new = MLPClassifier(max_iter=20)\n",
    "mlp_model_base_s_new = MLPClassifier(max_iter=20)"
   ]
  },
  {
   "cell_type": "code",
   "execution_count": null,
   "id": "44338d5f",
   "metadata": {},
   "outputs": [],
   "source": [
    "mlp_model_base_e_new.fit(posts_train_new, emotions_train)"
   ]
  },
  {
   "cell_type": "code",
   "execution_count": null,
   "id": "bc3a381e",
   "metadata": {},
   "outputs": [],
   "source": [
    "mlp_model_base_s_new.fit(posts_train_new, sentiments_train)"
   ]
  },
  {
   "cell_type": "code",
   "execution_count": null,
   "id": "b232abe4",
   "metadata": {},
   "outputs": [],
   "source": [
    "parameters = {'hidden_layer_sizes': [(30, 50,), (10, 10, 10,)],\n",
    "                'activation': ['logistic', 'tanh', 'relu', 'identity'],\n",
    "                 'solver': ['sgd', 'adam']}\n",
    "mlp_new = MLPClassifier(max_iter=20)\n",
    "\n",
    "mlp_model_top_e_new = GridSearchCV(estimator = mlp_new, param_grid = parameters, n_jobs=-1)\n",
    "mlp_model_top_s_new = GridSearchCV(mlp_new, parameters)"
   ]
  },
  {
   "cell_type": "code",
   "execution_count": null,
   "id": "780c5014",
   "metadata": {},
   "outputs": [],
   "source": [
    "mlp_model_top_e_new.fit(posts_train_new, emotions_train)"
   ]
  },
  {
   "cell_type": "code",
   "execution_count": null,
   "id": "fd749dcd",
   "metadata": {},
   "outputs": [],
   "source": [
    "mlp_model_top_s_new.fit(posts_train_new, sentiments_train)"
   ]
  },
  {
   "cell_type": "markdown",
   "id": "5b43dcdd",
   "metadata": {},
   "source": [
    "#### Predictions"
   ]
  },
  {
   "cell_type": "code",
   "execution_count": null,
   "id": "a48ea088",
   "metadata": {},
   "outputs": [],
   "source": [
    "pred_base_e_new = mlp_model_base_e_new.predict(posts_test_new)\n",
    "pred_base_s_new = mlp_model_base_s_new.predict(posts_test_new)\n",
    "pred_top_e_new = mlp_model_top_e_new.predict(posts_test_new)\n",
    "pred_top_s_new = mlp_model_top_s_new.predict(posts_test_new)"
   ]
  },
  {
   "cell_type": "markdown",
   "id": "e0ed62ec",
   "metadata": {},
   "source": [
    "#### Saving to Performance File"
   ]
  },
  {
   "cell_type": "code",
   "execution_count": null,
   "id": "73571253",
   "metadata": {},
   "outputs": [],
   "source": [
    "with open('mlp_performance.txt', 'a') as f:\n",
    "    f.write(\"Base MLP for emotions classification with stopwords\\nDefault parameters\\n\"\n",
    "           + \"----------------------------------------------------\\n\")\n",
    "    f.write(str(classification_report(y_true=emotions_test, y_pred=pred_base_e_new, target_names=emotion_classes)))\n",
    "    f.write(\"=====================================================\\n\\n\")\n",
    "    \n",
    "    f.write(\"Base MLP for sentiments classification with stopwords\\nDefault parameters\\n\"\n",
    "           + \"-----------------------------------------------------\\n\")\n",
    "    f.write(str(classification_report(y_true=sentiments_test, y_pred=pred_base_s_new, target_names=sentiment_classes)))\n",
    "    f.write(\"=====================================================\\n\\n\")\n",
    "    \n",
    "    f.write(\"Top MLP for emotions classification with stopwords\\n\" + str(mlp_model_top_e_new.best_params_) + \"\\n\"\n",
    "           + \"-----------------------------------------------------\\n\")\n",
    "    f.write(str(classification_report(y_true=emotions_test, y_pred=pred_top_e_new, target_names=emotion_classes)))\n",
    "    f.write(\"=====================================================\\n\\n\")\n",
    "    \n",
    "    f.write(\"Top MLP for sentiments classification with stopwords\\n\" + str(mlp_model_top_s_new.best_params_) + \"\\n\"\n",
    "           + \"-----------------------------------------------------\\n\")\n",
    "    f.write(str(classification_report(y_true=sentiments_test, y_pred=pred_top_s_new, target_names=sentiment_classes)))\n",
    "    f.write(\"=====================================================\\n\\n\")"
   ]
  },
  {
   "cell_type": "markdown",
   "id": "1e7c980e",
   "metadata": {},
   "source": [
    "# 3 Embeddings as Features"
   ]
  },
  {
   "cell_type": "code",
   "execution_count": null,
   "id": "5a374923",
   "metadata": {},
   "outputs": [],
   "source": [
    "import gensim.downloader as api\n",
    "w2v_model = api.load(\"word2vec-google-news-300\")\n",
    "\n",
    "import nltk\n",
    "nltk.download()\n",
    "\n",
    "word_tokens = [nltk.word_tokenize(corpus, language=\"english\") for corpus in X_train]\n",
    "\n",
    "def get_post_embedding(model, post):\n",
    "    tokens = nltk.word_tokenize(post)\n",
    "    words = [word for word in tokens if word in model]\n",
    "    if len(words)>0:\n",
    "        return np.mean(model[words], axis=0)\n",
    "    else:\n",
    "        return model['unk']"
   ]
  },
  {
   "cell_type": "code",
   "execution_count": null,
   "id": "21acd0b1",
   "metadata": {},
   "outputs": [],
   "source": [
    "X_train, X_test = train_test_split(posts,train_size=0.8)\n",
    "\n",
    "training_post_embeddings = [get_post_embedding(w2v_model, post) for post in X_train]\n",
    "testing_post_embeddings = [get_post_embedding(w2v_model, post) for post in X_test]"
   ]
  },
  {
   "cell_type": "markdown",
   "id": "b6662303",
   "metadata": {},
   "source": [
    "## 3.6 Training Top-MLP"
   ]
  },
  {
   "cell_type": "markdown",
   "id": "3edabdde",
   "metadata": {},
   "source": [
    "**Hidden Layers:** (10, 10, 10,)  \n",
    "**Activation Functions:** ReLU  \n",
    "**Optimisers:** adam"
   ]
  },
  {
   "cell_type": "code",
   "execution_count": null,
   "id": "e314c89c",
   "metadata": {},
   "outputs": [],
   "source": [
    "mlp_model_top_e_em = MLPClassifier(hidden_layer_sizes=(10, 10, 10,), activation='relu', solver='adam', max_iter=20)\n",
    "mlp_model_top_s_em = MLPClassifier(hidden_layer_sizes=(10, 10, 10,), activation='relu', solver='adam', max_iter=20)"
   ]
  },
  {
   "cell_type": "code",
   "execution_count": null,
   "id": "83ab0e19",
   "metadata": {},
   "outputs": [],
   "source": [
    "mlp_model_top_e_em.fit(training_post_embeddings, emotions_train)\n",
    "mlp_model_top_s_em.fit(training_post_embeddings, sentiments_train)"
   ]
  },
  {
   "cell_type": "code",
   "execution_count": null,
   "id": "4f5f5095",
   "metadata": {},
   "outputs": [],
   "source": [
    "pred_top_e_em = mlp_model_top_e_em.predict(testing_post_embeddings)\n",
    "pred_top_s_em = mlp_model_top_s_em.predict(testing_post_embeddings)"
   ]
  },
  {
   "cell_type": "code",
   "execution_count": null,
   "id": "32b22c5b",
   "metadata": {},
   "outputs": [],
   "source": [
    "params = {\n",
    "    'hidden_layer_sizes': (10, 10, 10,),\n",
    "    'activation': 'relu',\n",
    "    'solver': 'adam'\n",
    "}\n",
    "\n",
    "with open('mlp_performance.txt', 'a') as f:\n",
    "    f.write(\"=====================================================\\n\\n\")\n",
    "    \n",
    "    f.write(\"Top MLP for emotions classification with word embeddings\\n\" + str(params) + \"\\n\"\n",
    "           + \"-----------------------------------------------------\\n\")\n",
    "    f.write(str(classification_report(y_true=emotions_test, y_pred=pred_top_e_em, target_names=emotion_classes)))\n",
    "    f.write(\"=====================================================\\n\\n\")\n",
    "    \n",
    "    f.write(\"Top MLP for sentiments classification with word embeddings\\n\" + str(params) + \"\\n\"\n",
    "           + \"-----------------------------------------------------\\n\")\n",
    "    f.write(str(classification_report(y_true=sentiments_test, y_pred=pred_top_s_em, target_names=sentiment_classes)))\n",
    "    f.write(\"=====================================================\\n\\n\")"
   ]
  },
  {
   "cell_type": "code",
   "execution_count": null,
   "id": "e889aff5",
   "metadata": {},
   "outputs": [],
   "source": [
    "# import pickle\n",
    "\n",
    "# models = [mlp_model_base_e, mlp_model_base_s, mlp_model_top_e, mlp_model_top_s, mlp_model_base_e_new, mlp_model_base_s_new, mlp_model_top_e_new, mlp_model_top_s_new]\n",
    "# mlp = 'finalised_mlp_models.sav'\n",
    "# pickle.dump(models, open(mlp, 'wb'))"
   ]
  },
  {
   "cell_type": "code",
   "execution_count": null,
   "id": "5ce7197f",
   "metadata": {},
   "outputs": [],
   "source": [
    "# models = pickle.load(open('finalised_mlp_models.sav', 'rb'))\n",
    "# result = models[0].score()\n",
    "# print(result)"
   ]
  },
  {
   "cell_type": "code",
   "execution_count": null,
   "id": "742adf08",
   "metadata": {},
   "outputs": [],
   "source": [
    "# def getNumber(array, sentiment):\n",
    "#     sentiment_list = list(map(lambda s: s==sentiment, array))\n",
    "#     count = 0\n",
    "#     for s in sentiment_list:\n",
    "#         if s == True:\n",
    "#             count += 1\n",
    "#     return count"
   ]
  }
 ],
 "metadata": {
  "kernelspec": {
   "display_name": "Python 3 (ipykernel)",
   "language": "python",
   "name": "python3"
  },
  "language_info": {
   "codemirror_mode": {
    "name": "ipython",
    "version": 3
   },
   "file_extension": ".py",
   "mimetype": "text/x-python",
   "name": "python",
   "nbconvert_exporter": "python",
   "pygments_lexer": "ipython3",
   "version": "3.9.7"
  }
 },
 "nbformat": 4,
 "nbformat_minor": 5
}
