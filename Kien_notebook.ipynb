{
 "cells": [
  {
   "cell_type": "markdown",
   "metadata": {
    "id": "zsLgCLZfhk1B"
   },
   "source": [
    "# **Pre-requisite steps**"
   ]
  },
  {
   "cell_type": "code",
   "execution_count": null,
   "metadata": {
    "id": "d4-tDW_gMVLV"
   },
   "outputs": [],
   "source": [
    "import gzip\n",
    "import json\n",
    "import numpy as np\n",
    "import matplotlib.pyplot as plt\n",
    "from sklearn.model_selection import train_test_split\n",
    "from sklearn.feature_extraction.text import CountVectorizer\n",
    "from sklearn.neural_network import MLPClassifier\n",
    "from sklearn.model_selection import GridSearchCV\n",
    "from sklearn.metrics import confusion_matrix\n",
    "from sklearn.metrics import ConfusionMatrixDisplay\n",
    "from sklearn.metrics import classification_report\n",
    "from google.colab import drive\n",
    "from sklearn.naive_bayes import MultinomialNB"
   ]
  },
  {
   "cell_type": "code",
   "execution_count": null,
   "metadata": {
    "colab": {
     "base_uri": "https://localhost:8080/"
    },
    "id": "aGGlMoyAS7x6",
    "outputId": "5b7fca45-6733-49fc-97a9-68e7c2cd279e"
   },
   "outputs": [],
   "source": [
    "# For Colab\n",
    "from google.colab import drive\n",
    "drive.mount('/content/drive')"
   ]
  },
  {
   "cell_type": "code",
   "execution_count": null,
   "metadata": {
    "id": "-m7BbOLzPRgW"
   },
   "outputs": [],
   "source": [
    "with open('/content/drive/MyDrive/goemotions.json', 'r') as f:\n",
    "  json_file = json.load(f)\n",
    "\n",
    "# -- For local --\n",
    "# file = gzip.open('goemotions.json.gz')\n",
    "# json_file = json.load(file)"
   ]
  },
  {
   "cell_type": "code",
   "execution_count": null,
   "metadata": {
    "id": "Hd2clXSuM7nq"
   },
   "outputs": [],
   "source": [
    "json_file = np.asarray(json_file)\n",
    "\n",
    "posts = np.array(json_file[:,0])\n",
    "emotions = np.array(json_file[:,1])\n",
    "sentiments = np.array(json_file[:,2])"
   ]
  },
  {
   "cell_type": "markdown",
   "metadata": {
    "id": "DsxHIDhahqDZ"
   },
   "source": [
    "Define helpers"
   ]
  },
  {
   "cell_type": "code",
   "execution_count": null,
   "metadata": {
    "id": "ssgqeMVBwF3v"
   },
   "outputs": [],
   "source": [
    "def train_and_predict(classifier, X_train, Y_Train, X_test):\n",
    "  '''\n",
    "  classifier: the classifier object to be trained\n",
    "  X_train: train input\n",
    "  Y_train: train output\n",
    "  X_test: test input\n",
    "  return a prediction for X_test\n",
    "  '''\n",
    "  # train\n",
    "  classifier.fit(X_train, Y_Train)\n",
    "\n",
    "  # predict\n",
    "  return classifier.predict(X_test)\n",
    "\n",
    "def generate_stats(Y_test, Y_pred, output_filename):\n",
    "  '''\n",
    "  generate a report for the model\n",
    "  '''\n",
    "  # report\n",
    "  print(classification_report(Y_test,Y_pred))\n",
    "  plt.rcParams['figure.figsize'] = [20, 20]\n",
    "  ConfusionMatrixDisplay.from_predictions(Y_test,Y_pred)\n",
    "  plt.savefig(output_filename + \".pdf\", format=\"pdf\")\n",
    "  plt.show()"
   ]
  },
  {
   "cell_type": "markdown",
   "metadata": {
    "id": "HYFQU-wS6_Mn"
   },
   "source": [
    "# **TOP MNB and Base-DT With stopwords**"
   ]
  },
  {
   "cell_type": "code",
   "execution_count": null,
   "metadata": {
    "colab": {
     "base_uri": "https://localhost:8080/"
    },
    "id": "qpsqSEy3MtUN",
    "outputId": "6631098b-1d0a-4314-8c0b-8b3af295343e"
   },
   "outputs": [],
   "source": [
    "# 2.1. Vectorizer\n",
    "vectorizer = CountVectorizer()\n",
    "vectorizer.fit_transform(posts)"
   ]
  },
  {
   "cell_type": "code",
   "execution_count": null,
   "metadata": {
    "id": "B5wbwnLtdTKu"
   },
   "outputs": [],
   "source": [
    "# 2.2 Splitting the dataset\n",
    "training_set, test_set = train_test_split(json_file,train_size=0.8)\n",
    "training = {}\n",
    "test = {}\n",
    "\n",
    "# training dict\n",
    "training[\"posts\"] = training_set[:,0]\n",
    "training[\"emotions\"] = training_set[:,1]\n",
    "training[\"sentiments\"] = training_set[:,2]\n",
    "\n",
    "# test dict\n",
    "test[\"posts\"] = test_set[:,0]\n",
    "test[\"emotions\"] = test_set[:,1]\n",
    "test[\"sentiments\"] = test_set[:,2]"
   ]
  },
  {
   "cell_type": "code",
   "execution_count": null,
   "metadata": {
    "id": "jureSRQzJBPL"
   },
   "outputs": [],
   "source": [
    "#Vectorzied\n",
    "vectorized_training_posts = vectorizer.transform(training[\"posts\"])\n",
    "vectorized_test_posts = vectorizer.transform(test[\"posts\"])"
   ]
  },
  {
   "cell_type": "markdown",
   "metadata": {
    "id": "b-Y2C7GUjTmF"
   },
   "source": [
    "## **TOP-MNB**"
   ]
  },
  {
   "cell_type": "markdown",
   "metadata": {
    "id": "Q4V8L_PJ944N"
   },
   "source": [
    "**Initiate the classifier**"
   ]
  },
  {
   "cell_type": "code",
   "execution_count": null,
   "metadata": {
    "id": "40WLOVE9dbro"
   },
   "outputs": [],
   "source": [
    "parameters = {\"alpha\":[0.5,0,0.25,0.75]}\n",
    "classifier = GridSearchCV(MultinomialNB(), parameters)\n",
    "print(classifier.best_estimator_)"
   ]
  },
  {
   "cell_type": "markdown",
   "metadata": {
    "id": "hzKZUrTE8myw"
   },
   "source": [
    "### **Classify Emotion**"
   ]
  },
  {
   "cell_type": "code",
   "execution_count": null,
   "metadata": {
    "id": "XnxxuENIU0_E"
   },
   "outputs": [],
   "source": [
    "# train and predict\n",
    "Y_pred = train_and_predict(classifier, vectorized_training_posts, training[\"emotions\"], vectorized_test_posts)"
   ]
  },
  {
   "cell_type": "code",
   "execution_count": null,
   "metadata": {
    "id": "t8R3rgsbhVg2"
   },
   "outputs": [],
   "source": [
    "# generate stats\n",
    "generate_stats(test[\"emotions\"], Y_pred, \"top mnb alpha 0.5 emotions\")"
   ]
  },
  {
   "cell_type": "markdown",
   "metadata": {
    "id": "r7XfsKGnjawU"
   },
   "source": [
    "### **Sentiments**\n"
   ]
  },
  {
   "cell_type": "code",
   "execution_count": null,
   "metadata": {
    "id": "uhSeP04TjdSL"
   },
   "outputs": [],
   "source": [
    "# train and predict\n",
    "Y_pred = train_and_predict(classifier, vectorized_training_posts, training[\"sentiments\"], vectorized_test_posts)"
   ]
  },
  {
   "cell_type": "code",
   "execution_count": null,
   "metadata": {
    "id": "T1FXXv4w86VF"
   },
   "outputs": [],
   "source": [
    "# report stats\n",
    "generate_stats(test[\"sentiments\"], Y_pred, \"top mnb alpha 0.5 sentiments\")"
   ]
  },
  {
   "cell_type": "markdown",
   "metadata": {
    "id": "Aj74tPzn1T5u"
   },
   "source": [
    "## **Base DT**"
   ]
  },
  {
   "cell_type": "code",
   "execution_count": null,
   "metadata": {
    "id": "k7wDCAYI9Gz-"
   },
   "outputs": [],
   "source": [
    "from sklearn import tree"
   ]
  },
  {
   "cell_type": "markdown",
   "metadata": {
    "id": "mAP5ZEVN6S4U"
   },
   "source": [
    "### **Classify emotion**"
   ]
  },
  {
   "cell_type": "code",
   "execution_count": null,
   "metadata": {
    "id": "TRRJ8xt01XXW"
   },
   "outputs": [],
   "source": [
    "dtc = tree.DecisionTreeClassifier()  \n",
    "\n",
    "# train and predict - Emotion\n",
    "Y_pred = train_and_predict(dtc, vectorized_training_posts, training[\"emotions\"], vectorized_test_posts)\n",
    "generate_stats(test[\"emotions\"], Y_pred, \"Base DT emotions\")"
   ]
  },
  {
   "cell_type": "markdown",
   "metadata": {
    "id": "xBwOLePb6XNt"
   },
   "source": [
    "### **Classify sentiments**"
   ]
  },
  {
   "cell_type": "code",
   "execution_count": null,
   "metadata": {
    "id": "JMwLKRzrUE2i"
   },
   "outputs": [],
   "source": [
    "# train and predict - Sentiments\n",
    "dtc = tree.DecisionTreeClassifier()  \n",
    "Y_pred = train_and_predict(dtc, vectorized_training_posts, training[\"sentiments\"], vectorized_test_posts)\n",
    "generate_stats(test[\"sentiments\"], Y_pred, \"Base DT sentiments\")"
   ]
  },
  {
   "cell_type": "markdown",
   "metadata": {
    "id": "ddpboxX5qtPX"
   },
   "source": [
    "# **Removing stopwords**"
   ]
  },
  {
   "cell_type": "code",
   "execution_count": null,
   "metadata": {
    "id": "NPgQmNzzn4er"
   },
   "outputs": [],
   "source": [
    "# Vectorizer\n",
    "vectorizer_stp_wrds = CountVectorizer(stop_words=\"english\")\n",
    "vectorizer_stp_wrds.fit_transform(posts)\n",
    "\n",
    "vectorized_test_posts = vectorizer_stp_wrds.transform(test['posts'])\n",
    "vectorized_training_posts = vectorizer_stp_wrds.transform(training['posts'])"
   ]
  },
  {
   "cell_type": "markdown",
   "metadata": {
    "id": "0ptUpUgF9SXV"
   },
   "source": [
    "## **TOP MNB**"
   ]
  },
  {
   "cell_type": "code",
   "execution_count": null,
   "metadata": {
    "id": "xUVpOndR9VyO"
   },
   "outputs": [],
   "source": [
    "parameters = {\"alpha\":[0.5,0,0.25,0.75]}\n",
    "top_mnb_classifier = GridSearchCV(MultinomialNB(), parameters)"
   ]
  },
  {
   "cell_type": "markdown",
   "metadata": {
    "id": "LHVagr8Y6a_n"
   },
   "source": [
    "### **Top MNB - Emotions**"
   ]
  },
  {
   "cell_type": "code",
   "execution_count": null,
   "metadata": {
    "colab": {
     "base_uri": "https://localhost:8080/",
     "height": 1000
    },
    "id": "GvxtBXbCvRKa",
    "outputId": "62bd46a9-49f8-4432-bbb8-e6ebab97c720"
   },
   "outputs": [],
   "source": [
    "# emotions\n",
    "Y_pred = train_and_predict(top_mnb_classifier, vectorized_training_posts, training['emotions'] ,vectorized_test_posts)\n",
    "generate_stats(test[\"emotions\"],Y_pred, \"Top MNB removed stopwords emotions\")"
   ]
  },
  {
   "cell_type": "markdown",
   "metadata": {
    "id": "t8aH3rxC6sOx"
   },
   "source": [
    "### **Top MNB - Sentiments**"
   ]
  },
  {
   "cell_type": "code",
   "execution_count": null,
   "metadata": {
    "id": "IgIag5V9xqdR"
   },
   "outputs": [],
   "source": [
    "# Sentiments\n",
    "Y_pred = train_and_predict(top_mnb_classifier, vectorized_training_posts, training['sentiments'] ,vectorized_test_posts)\n",
    "generate_stats(test[\"sentiments\"],Y_pred, \"Top MNB removed stopwords emotions\")"
   ]
  },
  {
   "cell_type": "markdown",
   "metadata": {
    "id": "plmrsXld9tX2"
   },
   "source": [
    "## **Base DT**"
   ]
  },
  {
   "cell_type": "markdown",
   "metadata": {
    "id": "_ayG57Ol6z_f"
   },
   "source": [
    "### **Base DT - Emotions**"
   ]
  },
  {
   "cell_type": "code",
   "execution_count": null,
   "metadata": {
    "id": "1JWp-H14S8FO"
   },
   "outputs": [],
   "source": [
    "# Base-DT without stopwords\n",
    "dtc = tree.DecisionTreeClassifier()  \n",
    "\n",
    "# train and predict - Emotion\n",
    "Y_pred = train_and_predict(dtc, vectorized_training_posts, training['emotions'] ,vectorized_test_posts)\n",
    "generate_stats(test[\"emotions\"],Y_pred, \"Base DT removed stopwords emotions\")"
   ]
  },
  {
   "cell_type": "markdown",
   "metadata": {
    "id": "Bk969DsX62x3"
   },
   "source": [
    "### **Base DT - Sentiments**"
   ]
  },
  {
   "cell_type": "code",
   "execution_count": null,
   "metadata": {
    "id": "fdo-TdD6Tnws"
   },
   "outputs": [],
   "source": [
    "# Base-DT without stopwords\n",
    "dtc = tree.DecisionTreeClassifier()  \n",
    "\n",
    "# train and predict - Sentiments\n",
    "Y_pred = train_and_predict(dtc, vectorized_training_posts, training['sentiments'] ,vectorized_test_posts)\n",
    "generate_stats(test[\"sentiments\"],Y_pred, \"Base DT removed stopwords sentiments\")"
   ]
  }
 ],
 "metadata": {
  "colab": {
   "collapsed_sections": [
    "zsLgCLZfhk1B",
    "HYFQU-wS6_Mn",
    "b-Y2C7GUjTmF",
    "hzKZUrTE8myw",
    "r7XfsKGnjawU",
    "Aj74tPzn1T5u",
    "mAP5ZEVN6S4U",
    "xBwOLePb6XNt",
    "ddpboxX5qtPX",
    "0ptUpUgF9SXV",
    "t8aH3rxC6sOx",
    "plmrsXld9tX2",
    "_ayG57Ol6z_f"
   ],
   "provenance": []
  },
  "kernelspec": {
   "display_name": "Python 3 (ipykernel)",
   "language": "python",
   "name": "python3"
  },
  "language_info": {
   "codemirror_mode": {
    "name": "ipython",
    "version": 3
   },
   "file_extension": ".py",
   "mimetype": "text/x-python",
   "name": "python",
   "nbconvert_exporter": "python",
   "pygments_lexer": "ipython3",
   "version": "3.8.10"
  }
 },
 "nbformat": 4,
 "nbformat_minor": 1
}
